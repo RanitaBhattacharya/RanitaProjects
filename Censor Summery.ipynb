{
 "cells": [
  {
   "cell_type": "code",
   "execution_count": null,
   "id": "cf7301f2",
   "metadata": {},
   "outputs": [],
   "source": [
    "import numpy as np\n",
    "import pandas as pd \n",
    "import seaborn as sns \n",
    "import matplotlib.pyplot as plt \n",
    "\n",
    "%matplotlib inline\n",
    "\n",
    "plt.rcParams['figure.figsize'] = [8, 6]\n",
    "import pdb\n",
    "from scipy import stats\n",
    "from sklearn.preprocessing import StandardScaler\n",
    "from sklearn.preprocessing import MinMaxScaler\n",
    "from sklearn.model_selection import train_test_split\n",
    "\n",
    "from sklearn.model_selection import KFold, RepeatedKFold\n",
    "from sklearn.dummy import DummyClassifier\n",
    "from sklearn.linear_model import LogisticRegression \n",
    "from sklearn.tree import DecisionTreeClassifier\n",
    "from sklearn import tree\n",
    "from sklearn.ensemble import RandomForestClassifier\n",
    "\n",
    "from sklearn.metrics import accuracy_score\n",
    "from sklearn.metrics import recall_score\n",
    "from sklearn.metrics import precision_score\n",
    "from sklearn.metrics import f1_score\n",
    "from sklearn.metrics import confusion_matrix, ConfusionMatrixDisplay\n",
    "from sklearn.metrics import classification_report\n",
    "from sklearn.model_selection import RandomizedSearchCV"
   ]
  },
  {
   "cell_type": "code",
   "execution_count": null,
   "id": "5b49327c",
   "metadata": {},
   "outputs": [],
   "source": [
    "cns = pd.read_csv('census_income.csv')"
   ]
  },
  {
   "cell_type": "code",
   "execution_count": 53,
   "id": "c624fed0",
   "metadata": {},
   "outputs": [
    {
     "data": {
      "text/html": [
       "<div>\n",
       "<style scoped>\n",
       "    .dataframe tbody tr th:only-of-type {\n",
       "        vertical-align: middle;\n",
       "    }\n",
       "\n",
       "    .dataframe tbody tr th {\n",
       "        vertical-align: top;\n",
       "    }\n",
       "\n",
       "    .dataframe thead th {\n",
       "        text-align: right;\n",
       "    }\n",
       "</style>\n",
       "<table border=\"1\" class=\"dataframe\">\n",
       "  <thead>\n",
       "    <tr style=\"text-align: right;\">\n",
       "      <th></th>\n",
       "      <th>Age</th>\n",
       "      <th>Workclass</th>\n",
       "      <th>Fnlwgt</th>\n",
       "      <th>Education</th>\n",
       "      <th>Education_num</th>\n",
       "      <th>Marital_status</th>\n",
       "      <th>Occupation</th>\n",
       "      <th>Relationship</th>\n",
       "      <th>Race</th>\n",
       "      <th>Sex</th>\n",
       "      <th>Capital_gain</th>\n",
       "      <th>Capital_loss</th>\n",
       "      <th>Hours_per_week</th>\n",
       "      <th>Native_country</th>\n",
       "      <th>Income</th>\n",
       "    </tr>\n",
       "  </thead>\n",
       "  <tbody>\n",
       "    <tr>\n",
       "      <th>0</th>\n",
       "      <td>50</td>\n",
       "      <td>Self-emp-not-inc</td>\n",
       "      <td>83311</td>\n",
       "      <td>Bachelors</td>\n",
       "      <td>13</td>\n",
       "      <td>Married-civ-spouse</td>\n",
       "      <td>Exec-managerial</td>\n",
       "      <td>Husband</td>\n",
       "      <td>White</td>\n",
       "      <td>Male</td>\n",
       "      <td>0</td>\n",
       "      <td>0</td>\n",
       "      <td>13</td>\n",
       "      <td>United-States</td>\n",
       "      <td>&lt;=50K</td>\n",
       "    </tr>\n",
       "    <tr>\n",
       "      <th>1</th>\n",
       "      <td>38</td>\n",
       "      <td>Private</td>\n",
       "      <td>215646</td>\n",
       "      <td>HS-grad</td>\n",
       "      <td>9</td>\n",
       "      <td>Divorced</td>\n",
       "      <td>Handlers-cleaners</td>\n",
       "      <td>Not-in-family</td>\n",
       "      <td>White</td>\n",
       "      <td>Male</td>\n",
       "      <td>0</td>\n",
       "      <td>0</td>\n",
       "      <td>40</td>\n",
       "      <td>United-States</td>\n",
       "      <td>&lt;=50K</td>\n",
       "    </tr>\n",
       "    <tr>\n",
       "      <th>2</th>\n",
       "      <td>53</td>\n",
       "      <td>Private</td>\n",
       "      <td>234721</td>\n",
       "      <td>11th</td>\n",
       "      <td>7</td>\n",
       "      <td>Married-civ-spouse</td>\n",
       "      <td>Handlers-cleaners</td>\n",
       "      <td>Husband</td>\n",
       "      <td>Black</td>\n",
       "      <td>Male</td>\n",
       "      <td>0</td>\n",
       "      <td>0</td>\n",
       "      <td>40</td>\n",
       "      <td>United-States</td>\n",
       "      <td>&lt;=50K</td>\n",
       "    </tr>\n",
       "    <tr>\n",
       "      <th>3</th>\n",
       "      <td>28</td>\n",
       "      <td>Private</td>\n",
       "      <td>338409</td>\n",
       "      <td>Bachelors</td>\n",
       "      <td>13</td>\n",
       "      <td>Married-civ-spouse</td>\n",
       "      <td>Prof-specialty</td>\n",
       "      <td>Wife</td>\n",
       "      <td>Black</td>\n",
       "      <td>Female</td>\n",
       "      <td>0</td>\n",
       "      <td>0</td>\n",
       "      <td>40</td>\n",
       "      <td>Cuba</td>\n",
       "      <td>&lt;=50K</td>\n",
       "    </tr>\n",
       "    <tr>\n",
       "      <th>4</th>\n",
       "      <td>37</td>\n",
       "      <td>Private</td>\n",
       "      <td>284582</td>\n",
       "      <td>Masters</td>\n",
       "      <td>14</td>\n",
       "      <td>Married-civ-spouse</td>\n",
       "      <td>Exec-managerial</td>\n",
       "      <td>Wife</td>\n",
       "      <td>White</td>\n",
       "      <td>Female</td>\n",
       "      <td>0</td>\n",
       "      <td>0</td>\n",
       "      <td>40</td>\n",
       "      <td>United-States</td>\n",
       "      <td>&lt;=50K</td>\n",
       "    </tr>\n",
       "    <tr>\n",
       "      <th>...</th>\n",
       "      <td>...</td>\n",
       "      <td>...</td>\n",
       "      <td>...</td>\n",
       "      <td>...</td>\n",
       "      <td>...</td>\n",
       "      <td>...</td>\n",
       "      <td>...</td>\n",
       "      <td>...</td>\n",
       "      <td>...</td>\n",
       "      <td>...</td>\n",
       "      <td>...</td>\n",
       "      <td>...</td>\n",
       "      <td>...</td>\n",
       "      <td>...</td>\n",
       "      <td>...</td>\n",
       "    </tr>\n",
       "    <tr>\n",
       "      <th>32555</th>\n",
       "      <td>27</td>\n",
       "      <td>Private</td>\n",
       "      <td>257302</td>\n",
       "      <td>Assoc-acdm</td>\n",
       "      <td>12</td>\n",
       "      <td>Married-civ-spouse</td>\n",
       "      <td>Tech-support</td>\n",
       "      <td>Wife</td>\n",
       "      <td>White</td>\n",
       "      <td>Female</td>\n",
       "      <td>0</td>\n",
       "      <td>0</td>\n",
       "      <td>38</td>\n",
       "      <td>United-States</td>\n",
       "      <td>&lt;=50K</td>\n",
       "    </tr>\n",
       "    <tr>\n",
       "      <th>32556</th>\n",
       "      <td>40</td>\n",
       "      <td>Private</td>\n",
       "      <td>154374</td>\n",
       "      <td>HS-grad</td>\n",
       "      <td>9</td>\n",
       "      <td>Married-civ-spouse</td>\n",
       "      <td>Machine-op-inspct</td>\n",
       "      <td>Husband</td>\n",
       "      <td>White</td>\n",
       "      <td>Male</td>\n",
       "      <td>0</td>\n",
       "      <td>0</td>\n",
       "      <td>40</td>\n",
       "      <td>United-States</td>\n",
       "      <td>&gt;50K</td>\n",
       "    </tr>\n",
       "    <tr>\n",
       "      <th>32557</th>\n",
       "      <td>58</td>\n",
       "      <td>Private</td>\n",
       "      <td>151910</td>\n",
       "      <td>HS-grad</td>\n",
       "      <td>9</td>\n",
       "      <td>Widowed</td>\n",
       "      <td>Adm-clerical</td>\n",
       "      <td>Unmarried</td>\n",
       "      <td>White</td>\n",
       "      <td>Female</td>\n",
       "      <td>0</td>\n",
       "      <td>0</td>\n",
       "      <td>40</td>\n",
       "      <td>United-States</td>\n",
       "      <td>&lt;=50K</td>\n",
       "    </tr>\n",
       "    <tr>\n",
       "      <th>32558</th>\n",
       "      <td>22</td>\n",
       "      <td>Private</td>\n",
       "      <td>201490</td>\n",
       "      <td>HS-grad</td>\n",
       "      <td>9</td>\n",
       "      <td>Never-married</td>\n",
       "      <td>Adm-clerical</td>\n",
       "      <td>Own-child</td>\n",
       "      <td>White</td>\n",
       "      <td>Male</td>\n",
       "      <td>0</td>\n",
       "      <td>0</td>\n",
       "      <td>20</td>\n",
       "      <td>United-States</td>\n",
       "      <td>&lt;=50K</td>\n",
       "    </tr>\n",
       "    <tr>\n",
       "      <th>32559</th>\n",
       "      <td>52</td>\n",
       "      <td>Self-emp-inc</td>\n",
       "      <td>287927</td>\n",
       "      <td>HS-grad</td>\n",
       "      <td>9</td>\n",
       "      <td>Married-civ-spouse</td>\n",
       "      <td>Exec-managerial</td>\n",
       "      <td>Wife</td>\n",
       "      <td>White</td>\n",
       "      <td>Female</td>\n",
       "      <td>15024</td>\n",
       "      <td>0</td>\n",
       "      <td>40</td>\n",
       "      <td>United-States</td>\n",
       "      <td>&gt;50K</td>\n",
       "    </tr>\n",
       "  </tbody>\n",
       "</table>\n",
       "<p>32560 rows × 15 columns</p>\n",
       "</div>"
      ],
      "text/plain": [
       "       Age          Workclass  Fnlwgt    Education  Education_num  \\\n",
       "0       50   Self-emp-not-inc   83311    Bachelors             13   \n",
       "1       38            Private  215646      HS-grad              9   \n",
       "2       53            Private  234721         11th              7   \n",
       "3       28            Private  338409    Bachelors             13   \n",
       "4       37            Private  284582      Masters             14   \n",
       "...    ...                ...     ...          ...            ...   \n",
       "32555   27            Private  257302   Assoc-acdm             12   \n",
       "32556   40            Private  154374      HS-grad              9   \n",
       "32557   58            Private  151910      HS-grad              9   \n",
       "32558   22            Private  201490      HS-grad              9   \n",
       "32559   52       Self-emp-inc  287927      HS-grad              9   \n",
       "\n",
       "            Marital_status          Occupation    Relationship    Race  \\\n",
       "0       Married-civ-spouse     Exec-managerial         Husband   White   \n",
       "1                 Divorced   Handlers-cleaners   Not-in-family   White   \n",
       "2       Married-civ-spouse   Handlers-cleaners         Husband   Black   \n",
       "3       Married-civ-spouse      Prof-specialty            Wife   Black   \n",
       "4       Married-civ-spouse     Exec-managerial            Wife   White   \n",
       "...                    ...                 ...             ...     ...   \n",
       "32555   Married-civ-spouse        Tech-support            Wife   White   \n",
       "32556   Married-civ-spouse   Machine-op-inspct         Husband   White   \n",
       "32557              Widowed        Adm-clerical       Unmarried   White   \n",
       "32558        Never-married        Adm-clerical       Own-child   White   \n",
       "32559   Married-civ-spouse     Exec-managerial            Wife   White   \n",
       "\n",
       "           Sex  Capital_gain  Capital_loss  Hours_per_week  Native_country  \\\n",
       "0         Male             0             0              13   United-States   \n",
       "1         Male             0             0              40   United-States   \n",
       "2         Male             0             0              40   United-States   \n",
       "3       Female             0             0              40            Cuba   \n",
       "4       Female             0             0              40   United-States   \n",
       "...        ...           ...           ...             ...             ...   \n",
       "32555   Female             0             0              38   United-States   \n",
       "32556     Male             0             0              40   United-States   \n",
       "32557   Female             0             0              40   United-States   \n",
       "32558     Male             0             0              20   United-States   \n",
       "32559   Female         15024             0              40   United-States   \n",
       "\n",
       "       Income  \n",
       "0       <=50K  \n",
       "1       <=50K  \n",
       "2       <=50K  \n",
       "3       <=50K  \n",
       "4       <=50K  \n",
       "...       ...  \n",
       "32555   <=50K  \n",
       "32556    >50K  \n",
       "32557   <=50K  \n",
       "32558   <=50K  \n",
       "32559    >50K  \n",
       "\n",
       "[32560 rows x 15 columns]"
      ]
     },
     "execution_count": 53,
     "metadata": {},
     "output_type": "execute_result"
    }
   ],
   "source": [
    "cns"
   ]
  },
  {
   "cell_type": "code",
   "execution_count": 54,
   "id": "c9c64a39",
   "metadata": {},
   "outputs": [
    {
     "data": {
      "text/html": [
       "<div>\n",
       "<style scoped>\n",
       "    .dataframe tbody tr th:only-of-type {\n",
       "        vertical-align: middle;\n",
       "    }\n",
       "\n",
       "    .dataframe tbody tr th {\n",
       "        vertical-align: top;\n",
       "    }\n",
       "\n",
       "    .dataframe thead th {\n",
       "        text-align: right;\n",
       "    }\n",
       "</style>\n",
       "<table border=\"1\" class=\"dataframe\">\n",
       "  <thead>\n",
       "    <tr style=\"text-align: right;\">\n",
       "      <th></th>\n",
       "      <th>Age</th>\n",
       "      <th>Workclass</th>\n",
       "      <th>Fnlwgt</th>\n",
       "      <th>Education</th>\n",
       "      <th>Education_num</th>\n",
       "      <th>Marital_status</th>\n",
       "      <th>Occupation</th>\n",
       "      <th>Relationship</th>\n",
       "      <th>Race</th>\n",
       "      <th>Sex</th>\n",
       "      <th>Capital_gain</th>\n",
       "      <th>Capital_loss</th>\n",
       "      <th>Hours_per_week</th>\n",
       "      <th>Native_country</th>\n",
       "      <th>Income</th>\n",
       "    </tr>\n",
       "  </thead>\n",
       "  <tbody>\n",
       "    <tr>\n",
       "      <th>0</th>\n",
       "      <td>50</td>\n",
       "      <td>Self-emp-not-inc</td>\n",
       "      <td>83311</td>\n",
       "      <td>Bachelors</td>\n",
       "      <td>13</td>\n",
       "      <td>Married-civ-spouse</td>\n",
       "      <td>Exec-managerial</td>\n",
       "      <td>Husband</td>\n",
       "      <td>White</td>\n",
       "      <td>Male</td>\n",
       "      <td>0</td>\n",
       "      <td>0</td>\n",
       "      <td>13</td>\n",
       "      <td>United-States</td>\n",
       "      <td>&lt;=50K</td>\n",
       "    </tr>\n",
       "    <tr>\n",
       "      <th>1</th>\n",
       "      <td>38</td>\n",
       "      <td>Private</td>\n",
       "      <td>215646</td>\n",
       "      <td>HS-grad</td>\n",
       "      <td>9</td>\n",
       "      <td>Divorced</td>\n",
       "      <td>Handlers-cleaners</td>\n",
       "      <td>Not-in-family</td>\n",
       "      <td>White</td>\n",
       "      <td>Male</td>\n",
       "      <td>0</td>\n",
       "      <td>0</td>\n",
       "      <td>40</td>\n",
       "      <td>United-States</td>\n",
       "      <td>&lt;=50K</td>\n",
       "    </tr>\n",
       "    <tr>\n",
       "      <th>2</th>\n",
       "      <td>53</td>\n",
       "      <td>Private</td>\n",
       "      <td>234721</td>\n",
       "      <td>11th</td>\n",
       "      <td>7</td>\n",
       "      <td>Married-civ-spouse</td>\n",
       "      <td>Handlers-cleaners</td>\n",
       "      <td>Husband</td>\n",
       "      <td>Black</td>\n",
       "      <td>Male</td>\n",
       "      <td>0</td>\n",
       "      <td>0</td>\n",
       "      <td>40</td>\n",
       "      <td>United-States</td>\n",
       "      <td>&lt;=50K</td>\n",
       "    </tr>\n",
       "    <tr>\n",
       "      <th>3</th>\n",
       "      <td>28</td>\n",
       "      <td>Private</td>\n",
       "      <td>338409</td>\n",
       "      <td>Bachelors</td>\n",
       "      <td>13</td>\n",
       "      <td>Married-civ-spouse</td>\n",
       "      <td>Prof-specialty</td>\n",
       "      <td>Wife</td>\n",
       "      <td>Black</td>\n",
       "      <td>Female</td>\n",
       "      <td>0</td>\n",
       "      <td>0</td>\n",
       "      <td>40</td>\n",
       "      <td>Cuba</td>\n",
       "      <td>&lt;=50K</td>\n",
       "    </tr>\n",
       "    <tr>\n",
       "      <th>4</th>\n",
       "      <td>37</td>\n",
       "      <td>Private</td>\n",
       "      <td>284582</td>\n",
       "      <td>Masters</td>\n",
       "      <td>14</td>\n",
       "      <td>Married-civ-spouse</td>\n",
       "      <td>Exec-managerial</td>\n",
       "      <td>Wife</td>\n",
       "      <td>White</td>\n",
       "      <td>Female</td>\n",
       "      <td>0</td>\n",
       "      <td>0</td>\n",
       "      <td>40</td>\n",
       "      <td>United-States</td>\n",
       "      <td>&lt;=50K</td>\n",
       "    </tr>\n",
       "  </tbody>\n",
       "</table>\n",
       "</div>"
      ],
      "text/plain": [
       "   Age          Workclass  Fnlwgt   Education  Education_num  \\\n",
       "0   50   Self-emp-not-inc   83311   Bachelors             13   \n",
       "1   38            Private  215646     HS-grad              9   \n",
       "2   53            Private  234721        11th              7   \n",
       "3   28            Private  338409   Bachelors             13   \n",
       "4   37            Private  284582     Masters             14   \n",
       "\n",
       "        Marital_status          Occupation    Relationship    Race      Sex  \\\n",
       "0   Married-civ-spouse     Exec-managerial         Husband   White     Male   \n",
       "1             Divorced   Handlers-cleaners   Not-in-family   White     Male   \n",
       "2   Married-civ-spouse   Handlers-cleaners         Husband   Black     Male   \n",
       "3   Married-civ-spouse      Prof-specialty            Wife   Black   Female   \n",
       "4   Married-civ-spouse     Exec-managerial            Wife   White   Female   \n",
       "\n",
       "   Capital_gain  Capital_loss  Hours_per_week  Native_country  Income  \n",
       "0             0             0              13   United-States   <=50K  \n",
       "1             0             0              40   United-States   <=50K  \n",
       "2             0             0              40   United-States   <=50K  \n",
       "3             0             0              40            Cuba   <=50K  \n",
       "4             0             0              40   United-States   <=50K  "
      ]
     },
     "execution_count": 54,
     "metadata": {},
     "output_type": "execute_result"
    }
   ],
   "source": [
    "cns.head()"
   ]
  },
  {
   "cell_type": "code",
   "execution_count": 55,
   "id": "12b120f0",
   "metadata": {},
   "outputs": [
    {
     "name": "stdout",
     "output_type": "stream",
     "text": [
      "<class 'pandas.core.frame.DataFrame'>\n",
      "RangeIndex: 32560 entries, 0 to 32559\n",
      "Data columns (total 15 columns):\n",
      " #   Column          Non-Null Count  Dtype \n",
      "---  ------          --------------  ----- \n",
      " 0   Age             32560 non-null  int64 \n",
      " 1   Workclass       32560 non-null  object\n",
      " 2   Fnlwgt          32560 non-null  int64 \n",
      " 3   Education       32560 non-null  object\n",
      " 4   Education_num   32560 non-null  int64 \n",
      " 5   Marital_status  32560 non-null  object\n",
      " 6   Occupation      32560 non-null  object\n",
      " 7   Relationship    32560 non-null  object\n",
      " 8   Race            32560 non-null  object\n",
      " 9   Sex             32560 non-null  object\n",
      " 10  Capital_gain    32560 non-null  int64 \n",
      " 11  Capital_loss    32560 non-null  int64 \n",
      " 12  Hours_per_week  32560 non-null  int64 \n",
      " 13  Native_country  32560 non-null  object\n",
      " 14  Income          32560 non-null  object\n",
      "dtypes: int64(6), object(9)\n",
      "memory usage: 3.7+ MB\n"
     ]
    }
   ],
   "source": [
    "cns.info()\n"
   ]
  },
  {
   "cell_type": "code",
   "execution_count": 56,
   "id": "eb284200",
   "metadata": {},
   "outputs": [],
   "source": [
    "def dataset_description(df_obj):\n",
    "  ##describe the dataset\n",
    "  print('Dataset shape: %s\\n' % (df_obj.shape, ))\n",
    "  print('Dataset columns: %s\\n' % df_obj.columns)\n",
    "  \n",
    "  print('Dataset first and last rows:\\n' % df_obj.columns)\n",
    "  display(df_obj)\n",
    "  #display(df_obj.head())\n",
    "  #display(df_obj.tail())\n",
    "  \n",
    "  print('\\nColumns description:\\n')\n",
    "  display(df_obj.info())\n",
    "  display(df_obj.describe())\n",
    "  \n",
    "  print('\\nNull values:\\n')\n",
    "  display(df_obj.isnull().sum())"
   ]
  },
  {
   "cell_type": "code",
   "execution_count": 57,
   "id": "75e0d621",
   "metadata": {},
   "outputs": [],
   "source": [
    "def categorical_feature_analysis(df, var_name):\n",
    "  ##var_name is the feature to be analyzed\n",
    "  print('Data values by class of feature %s:\\n%s\\n' % (var_name, df[var_name].value_counts(dropna=False))) #total feature values by category\n",
    "  print('Percentage of data values by class of feature %s:\\n%s\\n' % (var_name, df[var_name].value_counts(normalize=True, dropna=False))) #percentage of total feature values by category\n",
    "  print('Unique values of feature %s:\\n%s\\n'  % (var_name, df[var_name].unique())) #feature's unique values\n",
    "\n",
    "def continuous_feature_analysis(df, var_name):\n",
    "  ##var_name is the feature to be analyzed\n",
    "  print('Distribution of data values of feature %s:\\n%s\\n' % (var_name, df[var_name].value_counts(dropna=False))) #distribution of feature values\n",
    "  print('Percentage of data distribution of feature %s:\\n%s\\n' % (var_name, df[var_name].value_counts(normalize=True, dropna=False))) #percentage of distribution of feature values\n",
    "  #print('Unique values of feature %s (sorted) (%i):\\n%s\\n'  % (var_name, len(df[var_name].unique()), sorted(df[var_name].unique()))) #feature's unique values\n",
    "  print('Total unique values of feature %s: %i\\n'  % (var_name, len(df[var_name].unique()))) #feature's unique values\n",
    "  display(df[var].describe())"
   ]
  },
  {
   "cell_type": "code",
   "execution_count": 58,
   "id": "91db5536",
   "metadata": {},
   "outputs": [],
   "source": [
    "def std_features_all(all_X, vars):\n",
    "  ##standardize features\n",
    "  std_sca=StandardScaler()\n",
    "  std_sca.fit(all_X[vars])\n",
    "  all_X.loc[:, vars]=std_sca.transform(all_X[vars])\n",
    "  return all_X\n",
    "\n",
    "def std_features(train_X, val_X, vars):\n",
    "  ##standardize features\n",
    "  std_sca=StandardScaler()\n",
    "  std_sca.fit(train_X[vars])\n",
    "  train_X.loc[:, vars]=std_sca.transform(train_X[vars])\n",
    "  val_X.loc[:, vars]=std_sca.transform(val_X[vars])\n",
    "  return train_X, val_X\n",
    "\n",
    "def norm_features(train_X, val_X, vars):\n",
    "  ##min-max normalization\n",
    "  mm_sca=MinMaxScaler()\n",
    "  mm_sca.fit(train_X[vars])\n",
    "  train_X.loc[:, vars]=mm_sca.transform(train_X[vars])\n",
    "  val_X.loc[:, vars]=mm_sca.transform(val_X[vars])\n",
    "  return train_X, val_X"
   ]
  },
  {
   "cell_type": "code",
   "execution_count": 59,
   "id": "394d37a9",
   "metadata": {},
   "outputs": [],
   "source": [
    "def get_correlations(obj_corr, corr_threshold=0.5):\n",
    "  ##create a dict with the highest correlations and remove the duplicated combinations between all dataset features\n",
    "  series = obj_corr.unstack()\n",
    "  dict_corr={} #key=tuple of feature, value=corr\n",
    "  for index, value in series.items():\n",
    "      if (index[0]!=index[1]) and (abs(value) > corr_threshold) and ((index[0], index[1]) not in dict_corr) and ((index[1], index[0]) not in dict_corr):\n",
    "        dict_corr[(index[0], index[1])]=value\n",
    "  \n",
    "  return dict_corr"
   ]
  },
  {
   "cell_type": "code",
   "execution_count": 60,
   "id": "6ec0e2a7",
   "metadata": {},
   "outputs": [],
   "source": [
    "def calc_performance_metrics(model_name, real_y, prediction):\n",
    "  ##classification metrics\n",
    "  calc_accuracy=accuracy_score(real_y, prediction)\n",
    "  calc_recall=recall_score(real_y, prediction)\n",
    "  calc_precision=precision_score(real_y, prediction)\n",
    "  calc_f1=f1_score(real_y, prediction)\n",
    "\n",
    "  print(model_name+' prediction | Classification metric:')\n",
    "  print('Accuracy:', calc_accuracy)\n",
    "  print('Recall:', calc_recall)\n",
    "  print('Precision:', calc_precision)\n",
    "  print('F1:', calc_f1)\n",
    "  return calc_accuracy, calc_recall, calc_precision, calc_f1\n",
    "\n",
    "def calc_confusion_matrix(real_y, prediction):\n",
    "  ConfusionMatrixDisplay(confusion_matrix=confusion_matrix(real_y, prediction), display_labels=['<=$50K', '>$50K']).plot()\n",
    "  tn, fp, fn, tp=confusion_matrix(real_y, prediction).ravel()\n",
    "  print('\\nTN: ', tn, 'FP: ', fp, 'FN: ', fn, 'TP: ', tp)"
   ]
  },
  {
   "cell_type": "markdown",
   "id": "fe4078b1",
   "metadata": {},
   "source": [
    "# Loading datasets\n"
   ]
  },
  {
   "cell_type": "markdown",
   "id": "1e636f30",
   "metadata": {},
   "source": [
    "Load of training and testing datasets from http://archive.ics.uci.edu/ml/datasets/Census+Income."
   ]
  },
  {
   "cell_type": "markdown",
   "id": "ef505a5c",
   "metadata": {},
   "source": [
    "**Addition of column (feature) names according to the dataset's description:**\n",
    "\n"
   ]
  },
  {
   "cell_type": "markdown",
   "id": "fe2cbfc6",
   "metadata": {},
   "source": [
    "**Feature Information:**\n",
    "\n"
   ]
  },
  {
   "cell_type": "markdown",
   "id": "18ac741a",
   "metadata": {},
   "source": [
    "1.**Age**: continuous."
   ]
  },
  {
   "cell_type": "markdown",
   "id": "07cd469f",
   "metadata": {},
   "source": [
    "2.**workclass**: Private, Self-emp-not-inc, Self-emp-inc, Federal-gov, Local-gov, State-gov, Without-pay, Never-worked."
   ]
  },
  {
   "cell_type": "markdown",
   "id": "0e0b207f",
   "metadata": {},
   "source": [
    "3. **fnlwgt**: continuous."
   ]
  },
  {
   "cell_type": "markdown",
   "id": "a8d196ba",
   "metadata": {},
   "source": [
    "4.**Education**:Bachelors, Some-college, 11th, HS-grad, Prof-school, Assoc-acdm, Assoc-voc, 9th, 7th-8th, 12th, Masters, 1st-4th, 10th, Doctorate, 5th-6th, Preschool."
   ]
  },
  {
   "cell_type": "markdown",
   "id": "056e3215",
   "metadata": {},
   "source": [
    "5. **education-num**:continuous."
   ]
  },
  {
   "cell_type": "markdown",
   "id": "48ddfa08",
   "metadata": {},
   "source": [
    "6. **marital-status**:Married-civ-spouse, Divorced, Never-married, Separated, Widowed, Married-spouse-absent, Married-AF-spouse."
   ]
  },
  {
   "cell_type": "markdown",
   "id": "5c3beaeb",
   "metadata": {},
   "source": [
    "7. **Occupation**:Tech-support, Craft-repair, Other-service, Sales, Exec-managerial, Prof-specialty, Handlers-cleaners, Machine-op-inspct, Adm-clerical, Farming-fishing, Transport-moving, Priv-house-serv, Protective-serv, Armed-Forces."
   ]
  },
  {
   "cell_type": "markdown",
   "id": "fcfc2c85",
   "metadata": {},
   "source": [
    "8. **Relationship**: Wife, Own-child, Husband, Not-in-family, Other-relative, Unmarried."
   ]
  },
  {
   "cell_type": "markdown",
   "id": "c7d763d2",
   "metadata": {},
   "source": [
    "9. **Race**: White, Asian-Pac-Islander, Amer-Indian-Eskimo, Other, Black."
   ]
  },
  {
   "cell_type": "markdown",
   "id": "3faa7c96",
   "metadata": {},
   "source": [
    "10. **sex**:Female, Male."
   ]
  },
  {
   "cell_type": "markdown",
   "id": "a1d9772d",
   "metadata": {},
   "source": [
    "11. **capital-gain**:continuous"
   ]
  },
  {
   "cell_type": "markdown",
   "id": "9bff620e",
   "metadata": {},
   "source": [
    "12. **capital-loss**: continuous"
   ]
  },
  {
   "cell_type": "markdown",
   "id": "b3c3104a",
   "metadata": {},
   "source": [
    "13. **hours-per-week**:  continuous"
   ]
  },
  {
   "cell_type": "markdown",
   "id": "58629fce",
   "metadata": {},
   "source": [
    "14. **native-country**:United-States, Cambodia, England, Puerto-Rico, Canada, Germany, Outlying-US(Guam-USVI-etc), India, Japan, Greece, South, China, Cuba, Iran, Honduras, Philippines, Italy, Poland, Jamaica, Vietnam, Mexico, Portugal, Ireland, France, Dominican-Republic, Laos, Ecuador, Taiwan, Haiti, Columbia, Hungary, Guatemala, Nicaragua, Scotland, Thailand, Yugoslavia, El-Salvador, Trinadad&Tobago, Peru, Hong, Holand-Netherlands. 15.income: >50K, <=50K"
   ]
  },
  {
   "cell_type": "markdown",
   "id": "402dd052",
   "metadata": {},
   "source": [
    "Addition of row indexes."
   ]
  },
  {
   "cell_type": "code",
   "execution_count": 61,
   "id": "1dcdca89",
   "metadata": {},
   "outputs": [
    {
     "data": {
      "text/html": [
       "<div>\n",
       "<style scoped>\n",
       "    .dataframe tbody tr th:only-of-type {\n",
       "        vertical-align: middle;\n",
       "    }\n",
       "\n",
       "    .dataframe tbody tr th {\n",
       "        vertical-align: top;\n",
       "    }\n",
       "\n",
       "    .dataframe thead th {\n",
       "        text-align: right;\n",
       "    }\n",
       "</style>\n",
       "<table border=\"1\" class=\"dataframe\">\n",
       "  <thead>\n",
       "    <tr style=\"text-align: right;\">\n",
       "      <th></th>\n",
       "      <th>age</th>\n",
       "      <th>workclass</th>\n",
       "      <th>fnlwgt</th>\n",
       "      <th>education</th>\n",
       "      <th>education-num</th>\n",
       "      <th>marital-status</th>\n",
       "      <th>occupation</th>\n",
       "      <th>relationship</th>\n",
       "      <th>race</th>\n",
       "      <th>sex</th>\n",
       "      <th>capital-gain</th>\n",
       "      <th>capital-loss</th>\n",
       "      <th>hours-per-week</th>\n",
       "      <th>native-country</th>\n",
       "      <th>income</th>\n",
       "    </tr>\n",
       "  </thead>\n",
       "  <tbody>\n",
       "    <tr>\n",
       "      <th>0</th>\n",
       "      <td>39</td>\n",
       "      <td>State-gov</td>\n",
       "      <td>77516</td>\n",
       "      <td>Bachelors</td>\n",
       "      <td>13</td>\n",
       "      <td>Never-married</td>\n",
       "      <td>Adm-clerical</td>\n",
       "      <td>Not-in-family</td>\n",
       "      <td>White</td>\n",
       "      <td>Male</td>\n",
       "      <td>2174</td>\n",
       "      <td>0</td>\n",
       "      <td>40</td>\n",
       "      <td>United-States</td>\n",
       "      <td>&lt;=50K</td>\n",
       "    </tr>\n",
       "    <tr>\n",
       "      <th>1</th>\n",
       "      <td>50</td>\n",
       "      <td>Self-emp-not-inc</td>\n",
       "      <td>83311</td>\n",
       "      <td>Bachelors</td>\n",
       "      <td>13</td>\n",
       "      <td>Married-civ-spouse</td>\n",
       "      <td>Exec-managerial</td>\n",
       "      <td>Husband</td>\n",
       "      <td>White</td>\n",
       "      <td>Male</td>\n",
       "      <td>0</td>\n",
       "      <td>0</td>\n",
       "      <td>13</td>\n",
       "      <td>United-States</td>\n",
       "      <td>&lt;=50K</td>\n",
       "    </tr>\n",
       "    <tr>\n",
       "      <th>2</th>\n",
       "      <td>38</td>\n",
       "      <td>Private</td>\n",
       "      <td>215646</td>\n",
       "      <td>HS-grad</td>\n",
       "      <td>9</td>\n",
       "      <td>Divorced</td>\n",
       "      <td>Handlers-cleaners</td>\n",
       "      <td>Not-in-family</td>\n",
       "      <td>White</td>\n",
       "      <td>Male</td>\n",
       "      <td>0</td>\n",
       "      <td>0</td>\n",
       "      <td>40</td>\n",
       "      <td>United-States</td>\n",
       "      <td>&lt;=50K</td>\n",
       "    </tr>\n",
       "    <tr>\n",
       "      <th>3</th>\n",
       "      <td>53</td>\n",
       "      <td>Private</td>\n",
       "      <td>234721</td>\n",
       "      <td>11th</td>\n",
       "      <td>7</td>\n",
       "      <td>Married-civ-spouse</td>\n",
       "      <td>Handlers-cleaners</td>\n",
       "      <td>Husband</td>\n",
       "      <td>Black</td>\n",
       "      <td>Male</td>\n",
       "      <td>0</td>\n",
       "      <td>0</td>\n",
       "      <td>40</td>\n",
       "      <td>United-States</td>\n",
       "      <td>&lt;=50K</td>\n",
       "    </tr>\n",
       "    <tr>\n",
       "      <th>4</th>\n",
       "      <td>28</td>\n",
       "      <td>Private</td>\n",
       "      <td>338409</td>\n",
       "      <td>Bachelors</td>\n",
       "      <td>13</td>\n",
       "      <td>Married-civ-spouse</td>\n",
       "      <td>Prof-specialty</td>\n",
       "      <td>Wife</td>\n",
       "      <td>Black</td>\n",
       "      <td>Female</td>\n",
       "      <td>0</td>\n",
       "      <td>0</td>\n",
       "      <td>40</td>\n",
       "      <td>Cuba</td>\n",
       "      <td>&lt;=50K</td>\n",
       "    </tr>\n",
       "    <tr>\n",
       "      <th>...</th>\n",
       "      <td>...</td>\n",
       "      <td>...</td>\n",
       "      <td>...</td>\n",
       "      <td>...</td>\n",
       "      <td>...</td>\n",
       "      <td>...</td>\n",
       "      <td>...</td>\n",
       "      <td>...</td>\n",
       "      <td>...</td>\n",
       "      <td>...</td>\n",
       "      <td>...</td>\n",
       "      <td>...</td>\n",
       "      <td>...</td>\n",
       "      <td>...</td>\n",
       "      <td>...</td>\n",
       "    </tr>\n",
       "    <tr>\n",
       "      <th>32556</th>\n",
       "      <td>27</td>\n",
       "      <td>Private</td>\n",
       "      <td>257302</td>\n",
       "      <td>Assoc-acdm</td>\n",
       "      <td>12</td>\n",
       "      <td>Married-civ-spouse</td>\n",
       "      <td>Tech-support</td>\n",
       "      <td>Wife</td>\n",
       "      <td>White</td>\n",
       "      <td>Female</td>\n",
       "      <td>0</td>\n",
       "      <td>0</td>\n",
       "      <td>38</td>\n",
       "      <td>United-States</td>\n",
       "      <td>&lt;=50K</td>\n",
       "    </tr>\n",
       "    <tr>\n",
       "      <th>32557</th>\n",
       "      <td>40</td>\n",
       "      <td>Private</td>\n",
       "      <td>154374</td>\n",
       "      <td>HS-grad</td>\n",
       "      <td>9</td>\n",
       "      <td>Married-civ-spouse</td>\n",
       "      <td>Machine-op-inspct</td>\n",
       "      <td>Husband</td>\n",
       "      <td>White</td>\n",
       "      <td>Male</td>\n",
       "      <td>0</td>\n",
       "      <td>0</td>\n",
       "      <td>40</td>\n",
       "      <td>United-States</td>\n",
       "      <td>&gt;50K</td>\n",
       "    </tr>\n",
       "    <tr>\n",
       "      <th>32558</th>\n",
       "      <td>58</td>\n",
       "      <td>Private</td>\n",
       "      <td>151910</td>\n",
       "      <td>HS-grad</td>\n",
       "      <td>9</td>\n",
       "      <td>Widowed</td>\n",
       "      <td>Adm-clerical</td>\n",
       "      <td>Unmarried</td>\n",
       "      <td>White</td>\n",
       "      <td>Female</td>\n",
       "      <td>0</td>\n",
       "      <td>0</td>\n",
       "      <td>40</td>\n",
       "      <td>United-States</td>\n",
       "      <td>&lt;=50K</td>\n",
       "    </tr>\n",
       "    <tr>\n",
       "      <th>32559</th>\n",
       "      <td>22</td>\n",
       "      <td>Private</td>\n",
       "      <td>201490</td>\n",
       "      <td>HS-grad</td>\n",
       "      <td>9</td>\n",
       "      <td>Never-married</td>\n",
       "      <td>Adm-clerical</td>\n",
       "      <td>Own-child</td>\n",
       "      <td>White</td>\n",
       "      <td>Male</td>\n",
       "      <td>0</td>\n",
       "      <td>0</td>\n",
       "      <td>20</td>\n",
       "      <td>United-States</td>\n",
       "      <td>&lt;=50K</td>\n",
       "    </tr>\n",
       "    <tr>\n",
       "      <th>32560</th>\n",
       "      <td>52</td>\n",
       "      <td>Self-emp-inc</td>\n",
       "      <td>287927</td>\n",
       "      <td>HS-grad</td>\n",
       "      <td>9</td>\n",
       "      <td>Married-civ-spouse</td>\n",
       "      <td>Exec-managerial</td>\n",
       "      <td>Wife</td>\n",
       "      <td>White</td>\n",
       "      <td>Female</td>\n",
       "      <td>15024</td>\n",
       "      <td>0</td>\n",
       "      <td>40</td>\n",
       "      <td>United-States</td>\n",
       "      <td>&gt;50K</td>\n",
       "    </tr>\n",
       "  </tbody>\n",
       "</table>\n",
       "<p>32561 rows × 15 columns</p>\n",
       "</div>"
      ],
      "text/plain": [
       "       age          workclass  fnlwgt    education  education-num  \\\n",
       "0       39          State-gov   77516    Bachelors             13   \n",
       "1       50   Self-emp-not-inc   83311    Bachelors             13   \n",
       "2       38            Private  215646      HS-grad              9   \n",
       "3       53            Private  234721         11th              7   \n",
       "4       28            Private  338409    Bachelors             13   \n",
       "...    ...                ...     ...          ...            ...   \n",
       "32556   27            Private  257302   Assoc-acdm             12   \n",
       "32557   40            Private  154374      HS-grad              9   \n",
       "32558   58            Private  151910      HS-grad              9   \n",
       "32559   22            Private  201490      HS-grad              9   \n",
       "32560   52       Self-emp-inc  287927      HS-grad              9   \n",
       "\n",
       "            marital-status          occupation    relationship    race  \\\n",
       "0            Never-married        Adm-clerical   Not-in-family   White   \n",
       "1       Married-civ-spouse     Exec-managerial         Husband   White   \n",
       "2                 Divorced   Handlers-cleaners   Not-in-family   White   \n",
       "3       Married-civ-spouse   Handlers-cleaners         Husband   Black   \n",
       "4       Married-civ-spouse      Prof-specialty            Wife   Black   \n",
       "...                    ...                 ...             ...     ...   \n",
       "32556   Married-civ-spouse        Tech-support            Wife   White   \n",
       "32557   Married-civ-spouse   Machine-op-inspct         Husband   White   \n",
       "32558              Widowed        Adm-clerical       Unmarried   White   \n",
       "32559        Never-married        Adm-clerical       Own-child   White   \n",
       "32560   Married-civ-spouse     Exec-managerial            Wife   White   \n",
       "\n",
       "           sex  capital-gain  capital-loss  hours-per-week  native-country  \\\n",
       "0         Male          2174             0              40   United-States   \n",
       "1         Male             0             0              13   United-States   \n",
       "2         Male             0             0              40   United-States   \n",
       "3         Male             0             0              40   United-States   \n",
       "4       Female             0             0              40            Cuba   \n",
       "...        ...           ...           ...             ...             ...   \n",
       "32556   Female             0             0              38   United-States   \n",
       "32557     Male             0             0              40   United-States   \n",
       "32558   Female             0             0              40   United-States   \n",
       "32559     Male             0             0              20   United-States   \n",
       "32560   Female         15024             0              40   United-States   \n",
       "\n",
       "       income  \n",
       "0       <=50K  \n",
       "1       <=50K  \n",
       "2       <=50K  \n",
       "3       <=50K  \n",
       "4       <=50K  \n",
       "...       ...  \n",
       "32556   <=50K  \n",
       "32557    >50K  \n",
       "32558   <=50K  \n",
       "32559   <=50K  \n",
       "32560    >50K  \n",
       "\n",
       "[32561 rows x 15 columns]"
      ]
     },
     "metadata": {},
     "output_type": "display_data"
    },
    {
     "data": {
      "text/html": [
       "<div>\n",
       "<style scoped>\n",
       "    .dataframe tbody tr th:only-of-type {\n",
       "        vertical-align: middle;\n",
       "    }\n",
       "\n",
       "    .dataframe tbody tr th {\n",
       "        vertical-align: top;\n",
       "    }\n",
       "\n",
       "    .dataframe thead th {\n",
       "        text-align: right;\n",
       "    }\n",
       "</style>\n",
       "<table border=\"1\" class=\"dataframe\">\n",
       "  <thead>\n",
       "    <tr style=\"text-align: right;\">\n",
       "      <th></th>\n",
       "      <th>age</th>\n",
       "      <th>workclass</th>\n",
       "      <th>fnlwgt</th>\n",
       "      <th>education</th>\n",
       "      <th>education-num</th>\n",
       "      <th>marital-status</th>\n",
       "      <th>occupation</th>\n",
       "      <th>relationship</th>\n",
       "      <th>race</th>\n",
       "      <th>sex</th>\n",
       "      <th>capital-gain</th>\n",
       "      <th>capital-loss</th>\n",
       "      <th>hours-per-week</th>\n",
       "      <th>native-country</th>\n",
       "      <th>income</th>\n",
       "    </tr>\n",
       "  </thead>\n",
       "  <tbody>\n",
       "    <tr>\n",
       "      <th>0</th>\n",
       "      <td>25</td>\n",
       "      <td>Private</td>\n",
       "      <td>226802.0</td>\n",
       "      <td>11th</td>\n",
       "      <td>7.0</td>\n",
       "      <td>Never-married</td>\n",
       "      <td>Machine-op-inspct</td>\n",
       "      <td>Own-child</td>\n",
       "      <td>Black</td>\n",
       "      <td>Male</td>\n",
       "      <td>0.0</td>\n",
       "      <td>0.0</td>\n",
       "      <td>40.0</td>\n",
       "      <td>United-States</td>\n",
       "      <td>&lt;=50K.</td>\n",
       "    </tr>\n",
       "    <tr>\n",
       "      <th>1</th>\n",
       "      <td>38</td>\n",
       "      <td>Private</td>\n",
       "      <td>89814.0</td>\n",
       "      <td>HS-grad</td>\n",
       "      <td>9.0</td>\n",
       "      <td>Married-civ-spouse</td>\n",
       "      <td>Farming-fishing</td>\n",
       "      <td>Husband</td>\n",
       "      <td>White</td>\n",
       "      <td>Male</td>\n",
       "      <td>0.0</td>\n",
       "      <td>0.0</td>\n",
       "      <td>50.0</td>\n",
       "      <td>United-States</td>\n",
       "      <td>&lt;=50K.</td>\n",
       "    </tr>\n",
       "    <tr>\n",
       "      <th>2</th>\n",
       "      <td>28</td>\n",
       "      <td>Local-gov</td>\n",
       "      <td>336951.0</td>\n",
       "      <td>Assoc-acdm</td>\n",
       "      <td>12.0</td>\n",
       "      <td>Married-civ-spouse</td>\n",
       "      <td>Protective-serv</td>\n",
       "      <td>Husband</td>\n",
       "      <td>White</td>\n",
       "      <td>Male</td>\n",
       "      <td>0.0</td>\n",
       "      <td>0.0</td>\n",
       "      <td>40.0</td>\n",
       "      <td>United-States</td>\n",
       "      <td>&gt;50K.</td>\n",
       "    </tr>\n",
       "    <tr>\n",
       "      <th>3</th>\n",
       "      <td>44</td>\n",
       "      <td>Private</td>\n",
       "      <td>160323.0</td>\n",
       "      <td>Some-college</td>\n",
       "      <td>10.0</td>\n",
       "      <td>Married-civ-spouse</td>\n",
       "      <td>Machine-op-inspct</td>\n",
       "      <td>Husband</td>\n",
       "      <td>Black</td>\n",
       "      <td>Male</td>\n",
       "      <td>7688.0</td>\n",
       "      <td>0.0</td>\n",
       "      <td>40.0</td>\n",
       "      <td>United-States</td>\n",
       "      <td>&gt;50K.</td>\n",
       "    </tr>\n",
       "    <tr>\n",
       "      <th>4</th>\n",
       "      <td>18</td>\n",
       "      <td>?</td>\n",
       "      <td>103497.0</td>\n",
       "      <td>Some-college</td>\n",
       "      <td>10.0</td>\n",
       "      <td>Never-married</td>\n",
       "      <td>?</td>\n",
       "      <td>Own-child</td>\n",
       "      <td>White</td>\n",
       "      <td>Female</td>\n",
       "      <td>0.0</td>\n",
       "      <td>0.0</td>\n",
       "      <td>30.0</td>\n",
       "      <td>United-States</td>\n",
       "      <td>&lt;=50K.</td>\n",
       "    </tr>\n",
       "    <tr>\n",
       "      <th>...</th>\n",
       "      <td>...</td>\n",
       "      <td>...</td>\n",
       "      <td>...</td>\n",
       "      <td>...</td>\n",
       "      <td>...</td>\n",
       "      <td>...</td>\n",
       "      <td>...</td>\n",
       "      <td>...</td>\n",
       "      <td>...</td>\n",
       "      <td>...</td>\n",
       "      <td>...</td>\n",
       "      <td>...</td>\n",
       "      <td>...</td>\n",
       "      <td>...</td>\n",
       "      <td>...</td>\n",
       "    </tr>\n",
       "    <tr>\n",
       "      <th>16276</th>\n",
       "      <td>39</td>\n",
       "      <td>Private</td>\n",
       "      <td>215419.0</td>\n",
       "      <td>Bachelors</td>\n",
       "      <td>13.0</td>\n",
       "      <td>Divorced</td>\n",
       "      <td>Prof-specialty</td>\n",
       "      <td>Not-in-family</td>\n",
       "      <td>White</td>\n",
       "      <td>Female</td>\n",
       "      <td>0.0</td>\n",
       "      <td>0.0</td>\n",
       "      <td>36.0</td>\n",
       "      <td>United-States</td>\n",
       "      <td>&lt;=50K.</td>\n",
       "    </tr>\n",
       "    <tr>\n",
       "      <th>16277</th>\n",
       "      <td>64</td>\n",
       "      <td>?</td>\n",
       "      <td>321403.0</td>\n",
       "      <td>HS-grad</td>\n",
       "      <td>9.0</td>\n",
       "      <td>Widowed</td>\n",
       "      <td>?</td>\n",
       "      <td>Other-relative</td>\n",
       "      <td>Black</td>\n",
       "      <td>Male</td>\n",
       "      <td>0.0</td>\n",
       "      <td>0.0</td>\n",
       "      <td>40.0</td>\n",
       "      <td>United-States</td>\n",
       "      <td>&lt;=50K.</td>\n",
       "    </tr>\n",
       "    <tr>\n",
       "      <th>16278</th>\n",
       "      <td>38</td>\n",
       "      <td>Private</td>\n",
       "      <td>374983.0</td>\n",
       "      <td>Bachelors</td>\n",
       "      <td>13.0</td>\n",
       "      <td>Married-civ-spouse</td>\n",
       "      <td>Prof-specialty</td>\n",
       "      <td>Husband</td>\n",
       "      <td>White</td>\n",
       "      <td>Male</td>\n",
       "      <td>0.0</td>\n",
       "      <td>0.0</td>\n",
       "      <td>50.0</td>\n",
       "      <td>United-States</td>\n",
       "      <td>&lt;=50K.</td>\n",
       "    </tr>\n",
       "    <tr>\n",
       "      <th>16279</th>\n",
       "      <td>44</td>\n",
       "      <td>Private</td>\n",
       "      <td>83891.0</td>\n",
       "      <td>Bachelors</td>\n",
       "      <td>13.0</td>\n",
       "      <td>Divorced</td>\n",
       "      <td>Adm-clerical</td>\n",
       "      <td>Own-child</td>\n",
       "      <td>Asian-Pac-Islander</td>\n",
       "      <td>Male</td>\n",
       "      <td>5455.0</td>\n",
       "      <td>0.0</td>\n",
       "      <td>40.0</td>\n",
       "      <td>United-States</td>\n",
       "      <td>&lt;=50K.</td>\n",
       "    </tr>\n",
       "    <tr>\n",
       "      <th>16280</th>\n",
       "      <td>35</td>\n",
       "      <td>Self-emp-inc</td>\n",
       "      <td>182148.0</td>\n",
       "      <td>Bachelors</td>\n",
       "      <td>13.0</td>\n",
       "      <td>Married-civ-spouse</td>\n",
       "      <td>Exec-managerial</td>\n",
       "      <td>Husband</td>\n",
       "      <td>White</td>\n",
       "      <td>Male</td>\n",
       "      <td>0.0</td>\n",
       "      <td>0.0</td>\n",
       "      <td>60.0</td>\n",
       "      <td>United-States</td>\n",
       "      <td>&gt;50K.</td>\n",
       "    </tr>\n",
       "  </tbody>\n",
       "</table>\n",
       "<p>16281 rows × 15 columns</p>\n",
       "</div>"
      ],
      "text/plain": [
       "       age      workclass    fnlwgt      education  education-num  \\\n",
       "0       25        Private  226802.0           11th            7.0   \n",
       "1       38        Private   89814.0        HS-grad            9.0   \n",
       "2       28      Local-gov  336951.0     Assoc-acdm           12.0   \n",
       "3       44        Private  160323.0   Some-college           10.0   \n",
       "4       18              ?  103497.0   Some-college           10.0   \n",
       "...    ...            ...       ...            ...            ...   \n",
       "16276   39        Private  215419.0      Bachelors           13.0   \n",
       "16277   64              ?  321403.0        HS-grad            9.0   \n",
       "16278   38        Private  374983.0      Bachelors           13.0   \n",
       "16279   44        Private   83891.0      Bachelors           13.0   \n",
       "16280   35   Self-emp-inc  182148.0      Bachelors           13.0   \n",
       "\n",
       "            marital-status          occupation     relationship  \\\n",
       "0            Never-married   Machine-op-inspct        Own-child   \n",
       "1       Married-civ-spouse     Farming-fishing          Husband   \n",
       "2       Married-civ-spouse     Protective-serv          Husband   \n",
       "3       Married-civ-spouse   Machine-op-inspct          Husband   \n",
       "4            Never-married                   ?        Own-child   \n",
       "...                    ...                 ...              ...   \n",
       "16276             Divorced      Prof-specialty    Not-in-family   \n",
       "16277              Widowed                   ?   Other-relative   \n",
       "16278   Married-civ-spouse      Prof-specialty          Husband   \n",
       "16279             Divorced        Adm-clerical        Own-child   \n",
       "16280   Married-civ-spouse     Exec-managerial          Husband   \n",
       "\n",
       "                      race      sex  capital-gain  capital-loss  \\\n",
       "0                    Black     Male           0.0           0.0   \n",
       "1                    White     Male           0.0           0.0   \n",
       "2                    White     Male           0.0           0.0   \n",
       "3                    Black     Male        7688.0           0.0   \n",
       "4                    White   Female           0.0           0.0   \n",
       "...                    ...      ...           ...           ...   \n",
       "16276                White   Female           0.0           0.0   \n",
       "16277                Black     Male           0.0           0.0   \n",
       "16278                White     Male           0.0           0.0   \n",
       "16279   Asian-Pac-Islander     Male        5455.0           0.0   \n",
       "16280                White     Male           0.0           0.0   \n",
       "\n",
       "       hours-per-week  native-country   income  \n",
       "0                40.0   United-States   <=50K.  \n",
       "1                50.0   United-States   <=50K.  \n",
       "2                40.0   United-States    >50K.  \n",
       "3                40.0   United-States    >50K.  \n",
       "4                30.0   United-States   <=50K.  \n",
       "...               ...             ...      ...  \n",
       "16276            36.0   United-States   <=50K.  \n",
       "16277            40.0   United-States   <=50K.  \n",
       "16278            50.0   United-States   <=50K.  \n",
       "16279            40.0   United-States   <=50K.  \n",
       "16280            60.0   United-States    >50K.  \n",
       "\n",
       "[16281 rows x 15 columns]"
      ]
     },
     "metadata": {},
     "output_type": "display_data"
    }
   ],
   "source": [
    "\"\"\"\n",
    "##load from local\n",
    "try:\n",
    "  train_data=pd.read_csv('adult.data')  \n",
    "except:\n",
    "  uploaded=files.upload()\n",
    "  train_data=pd.read_csv('adult.data')\n",
    "\n",
    "try:\n",
    "  test_data=pd.read_csv('adult.test')\n",
    "except:\n",
    "  uploaded=files.upload()\n",
    "  test_data=pd.read_csv('adult.test')\n",
    "\"\"\"\n",
    "\n",
    "##load from specific url\n",
    "train_url='http://archive.ics.uci.edu/ml/machine-learning-databases/adult/adult.data'\n",
    "train_data=pd.read_csv(train_url, names=['age', 'workclass', 'fnlwgt', 'education', 'education-num', 'marital-status', 'occupation', 'relationship', 'race', 'sex', 'capital-gain', 'capital-loss', 'hours-per-week', 'native-country', 'income'], header=None, index_col=False)\n",
    "display(train_data)\n",
    "\n",
    "test_url='http://archive.ics.uci.edu/ml/machine-learning-databases/adult/adult.test'\n",
    "test_data=pd.read_csv(test_url, names=['age', 'workclass', 'fnlwgt', 'education', 'education-num', 'marital-status', 'occupation', 'relationship', 'race', 'sex', 'capital-gain', 'capital-loss', 'hours-per-week', 'native-country', 'income'], header=None, index_col=False)\n",
    "test_data=test_data.drop([0], axis=0) #drop first row (wrong format)\n",
    "test_data=test_data.reset_index(drop=True)\n",
    "test_data['age']=pd.to_numeric(test_data['age'])\n",
    "display(test_data)"
   ]
  },
  {
   "cell_type": "markdown",
   "id": "1649ae02",
   "metadata": {},
   "source": [
    "# EDA step\n"
   ]
  },
  {
   "cell_type": "markdown",
   "id": "0b162147",
   "metadata": {},
   "source": [
    "# Training dataset\n"
   ]
  },
  {
   "cell_type": "markdown",
   "id": "685d7f0a",
   "metadata": {},
   "source": [
    "Each entry represents a person consulted."
   ]
  },
  {
   "cell_type": "markdown",
   "id": "15b36844",
   "metadata": {},
   "source": [
    "Feature income will be excluded from the datasets as it is the target variable.\n",
    "\n"
   ]
  },
  {
   "cell_type": "markdown",
   "id": "928e63ce",
   "metadata": {},
   "source": [
    "**Type of features:**"
   ]
  },
  {
   "cell_type": "markdown",
   "id": "97a1b799",
   "metadata": {},
   "source": [
    "Numerical features (6 features, int64): age, fnlwgt, education-num, capital-gain, capital-loss, hours-per-week\n",
    "\n"
   ]
  },
  {
   "cell_type": "markdown",
   "id": "91ba258e",
   "metadata": {},
   "source": [
    "Categorical features (9 features, object(str)): workclass, education, marital-status, occupation, relationship, race, sex, native-country, income\n",
    "\n"
   ]
  },
  {
   "cell_type": "markdown",
   "id": "84e33aa4",
   "metadata": {},
   "source": [
    "**Missing data:**\n",
    "\n"
   ]
  },
  {
   "cell_type": "markdown",
   "id": "2aebcad8",
   "metadata": {},
   "source": [
    "There are no null data in any of the dataset columns.\n",
    "\n"
   ]
  },
  {
   "cell_type": "markdown",
   "id": "84f18e0b",
   "metadata": {},
   "source": [
    "However, there are unknown data (information) in some columns indicated by the symbol '?'.\n",
    "\n"
   ]
  },
  {
   "cell_type": "code",
   "execution_count": 62,
   "id": "e48fd256",
   "metadata": {},
   "outputs": [
    {
     "name": "stdout",
     "output_type": "stream",
     "text": [
      "Dataset shape: (32561, 15)\n",
      "\n",
      "Dataset columns: Index(['age', 'workclass', 'fnlwgt', 'education', 'education-num',\n",
      "       'marital-status', 'occupation', 'relationship', 'race', 'sex',\n",
      "       'capital-gain', 'capital-loss', 'hours-per-week', 'native-country',\n",
      "       'income'],\n",
      "      dtype='object')\n",
      "\n",
      "Dataset first and last rows:\n",
      "\n"
     ]
    },
    {
     "data": {
      "text/html": [
       "<div>\n",
       "<style scoped>\n",
       "    .dataframe tbody tr th:only-of-type {\n",
       "        vertical-align: middle;\n",
       "    }\n",
       "\n",
       "    .dataframe tbody tr th {\n",
       "        vertical-align: top;\n",
       "    }\n",
       "\n",
       "    .dataframe thead th {\n",
       "        text-align: right;\n",
       "    }\n",
       "</style>\n",
       "<table border=\"1\" class=\"dataframe\">\n",
       "  <thead>\n",
       "    <tr style=\"text-align: right;\">\n",
       "      <th></th>\n",
       "      <th>age</th>\n",
       "      <th>workclass</th>\n",
       "      <th>fnlwgt</th>\n",
       "      <th>education</th>\n",
       "      <th>education-num</th>\n",
       "      <th>marital-status</th>\n",
       "      <th>occupation</th>\n",
       "      <th>relationship</th>\n",
       "      <th>race</th>\n",
       "      <th>sex</th>\n",
       "      <th>capital-gain</th>\n",
       "      <th>capital-loss</th>\n",
       "      <th>hours-per-week</th>\n",
       "      <th>native-country</th>\n",
       "      <th>income</th>\n",
       "    </tr>\n",
       "  </thead>\n",
       "  <tbody>\n",
       "    <tr>\n",
       "      <th>0</th>\n",
       "      <td>39</td>\n",
       "      <td>State-gov</td>\n",
       "      <td>77516</td>\n",
       "      <td>Bachelors</td>\n",
       "      <td>13</td>\n",
       "      <td>Never-married</td>\n",
       "      <td>Adm-clerical</td>\n",
       "      <td>Not-in-family</td>\n",
       "      <td>White</td>\n",
       "      <td>Male</td>\n",
       "      <td>2174</td>\n",
       "      <td>0</td>\n",
       "      <td>40</td>\n",
       "      <td>United-States</td>\n",
       "      <td>&lt;=50K</td>\n",
       "    </tr>\n",
       "    <tr>\n",
       "      <th>1</th>\n",
       "      <td>50</td>\n",
       "      <td>Self-emp-not-inc</td>\n",
       "      <td>83311</td>\n",
       "      <td>Bachelors</td>\n",
       "      <td>13</td>\n",
       "      <td>Married-civ-spouse</td>\n",
       "      <td>Exec-managerial</td>\n",
       "      <td>Husband</td>\n",
       "      <td>White</td>\n",
       "      <td>Male</td>\n",
       "      <td>0</td>\n",
       "      <td>0</td>\n",
       "      <td>13</td>\n",
       "      <td>United-States</td>\n",
       "      <td>&lt;=50K</td>\n",
       "    </tr>\n",
       "    <tr>\n",
       "      <th>2</th>\n",
       "      <td>38</td>\n",
       "      <td>Private</td>\n",
       "      <td>215646</td>\n",
       "      <td>HS-grad</td>\n",
       "      <td>9</td>\n",
       "      <td>Divorced</td>\n",
       "      <td>Handlers-cleaners</td>\n",
       "      <td>Not-in-family</td>\n",
       "      <td>White</td>\n",
       "      <td>Male</td>\n",
       "      <td>0</td>\n",
       "      <td>0</td>\n",
       "      <td>40</td>\n",
       "      <td>United-States</td>\n",
       "      <td>&lt;=50K</td>\n",
       "    </tr>\n",
       "    <tr>\n",
       "      <th>3</th>\n",
       "      <td>53</td>\n",
       "      <td>Private</td>\n",
       "      <td>234721</td>\n",
       "      <td>11th</td>\n",
       "      <td>7</td>\n",
       "      <td>Married-civ-spouse</td>\n",
       "      <td>Handlers-cleaners</td>\n",
       "      <td>Husband</td>\n",
       "      <td>Black</td>\n",
       "      <td>Male</td>\n",
       "      <td>0</td>\n",
       "      <td>0</td>\n",
       "      <td>40</td>\n",
       "      <td>United-States</td>\n",
       "      <td>&lt;=50K</td>\n",
       "    </tr>\n",
       "    <tr>\n",
       "      <th>4</th>\n",
       "      <td>28</td>\n",
       "      <td>Private</td>\n",
       "      <td>338409</td>\n",
       "      <td>Bachelors</td>\n",
       "      <td>13</td>\n",
       "      <td>Married-civ-spouse</td>\n",
       "      <td>Prof-specialty</td>\n",
       "      <td>Wife</td>\n",
       "      <td>Black</td>\n",
       "      <td>Female</td>\n",
       "      <td>0</td>\n",
       "      <td>0</td>\n",
       "      <td>40</td>\n",
       "      <td>Cuba</td>\n",
       "      <td>&lt;=50K</td>\n",
       "    </tr>\n",
       "    <tr>\n",
       "      <th>...</th>\n",
       "      <td>...</td>\n",
       "      <td>...</td>\n",
       "      <td>...</td>\n",
       "      <td>...</td>\n",
       "      <td>...</td>\n",
       "      <td>...</td>\n",
       "      <td>...</td>\n",
       "      <td>...</td>\n",
       "      <td>...</td>\n",
       "      <td>...</td>\n",
       "      <td>...</td>\n",
       "      <td>...</td>\n",
       "      <td>...</td>\n",
       "      <td>...</td>\n",
       "      <td>...</td>\n",
       "    </tr>\n",
       "    <tr>\n",
       "      <th>32556</th>\n",
       "      <td>27</td>\n",
       "      <td>Private</td>\n",
       "      <td>257302</td>\n",
       "      <td>Assoc-acdm</td>\n",
       "      <td>12</td>\n",
       "      <td>Married-civ-spouse</td>\n",
       "      <td>Tech-support</td>\n",
       "      <td>Wife</td>\n",
       "      <td>White</td>\n",
       "      <td>Female</td>\n",
       "      <td>0</td>\n",
       "      <td>0</td>\n",
       "      <td>38</td>\n",
       "      <td>United-States</td>\n",
       "      <td>&lt;=50K</td>\n",
       "    </tr>\n",
       "    <tr>\n",
       "      <th>32557</th>\n",
       "      <td>40</td>\n",
       "      <td>Private</td>\n",
       "      <td>154374</td>\n",
       "      <td>HS-grad</td>\n",
       "      <td>9</td>\n",
       "      <td>Married-civ-spouse</td>\n",
       "      <td>Machine-op-inspct</td>\n",
       "      <td>Husband</td>\n",
       "      <td>White</td>\n",
       "      <td>Male</td>\n",
       "      <td>0</td>\n",
       "      <td>0</td>\n",
       "      <td>40</td>\n",
       "      <td>United-States</td>\n",
       "      <td>&gt;50K</td>\n",
       "    </tr>\n",
       "    <tr>\n",
       "      <th>32558</th>\n",
       "      <td>58</td>\n",
       "      <td>Private</td>\n",
       "      <td>151910</td>\n",
       "      <td>HS-grad</td>\n",
       "      <td>9</td>\n",
       "      <td>Widowed</td>\n",
       "      <td>Adm-clerical</td>\n",
       "      <td>Unmarried</td>\n",
       "      <td>White</td>\n",
       "      <td>Female</td>\n",
       "      <td>0</td>\n",
       "      <td>0</td>\n",
       "      <td>40</td>\n",
       "      <td>United-States</td>\n",
       "      <td>&lt;=50K</td>\n",
       "    </tr>\n",
       "    <tr>\n",
       "      <th>32559</th>\n",
       "      <td>22</td>\n",
       "      <td>Private</td>\n",
       "      <td>201490</td>\n",
       "      <td>HS-grad</td>\n",
       "      <td>9</td>\n",
       "      <td>Never-married</td>\n",
       "      <td>Adm-clerical</td>\n",
       "      <td>Own-child</td>\n",
       "      <td>White</td>\n",
       "      <td>Male</td>\n",
       "      <td>0</td>\n",
       "      <td>0</td>\n",
       "      <td>20</td>\n",
       "      <td>United-States</td>\n",
       "      <td>&lt;=50K</td>\n",
       "    </tr>\n",
       "    <tr>\n",
       "      <th>32560</th>\n",
       "      <td>52</td>\n",
       "      <td>Self-emp-inc</td>\n",
       "      <td>287927</td>\n",
       "      <td>HS-grad</td>\n",
       "      <td>9</td>\n",
       "      <td>Married-civ-spouse</td>\n",
       "      <td>Exec-managerial</td>\n",
       "      <td>Wife</td>\n",
       "      <td>White</td>\n",
       "      <td>Female</td>\n",
       "      <td>15024</td>\n",
       "      <td>0</td>\n",
       "      <td>40</td>\n",
       "      <td>United-States</td>\n",
       "      <td>&gt;50K</td>\n",
       "    </tr>\n",
       "  </tbody>\n",
       "</table>\n",
       "<p>32561 rows × 15 columns</p>\n",
       "</div>"
      ],
      "text/plain": [
       "       age          workclass  fnlwgt    education  education-num  \\\n",
       "0       39          State-gov   77516    Bachelors             13   \n",
       "1       50   Self-emp-not-inc   83311    Bachelors             13   \n",
       "2       38            Private  215646      HS-grad              9   \n",
       "3       53            Private  234721         11th              7   \n",
       "4       28            Private  338409    Bachelors             13   \n",
       "...    ...                ...     ...          ...            ...   \n",
       "32556   27            Private  257302   Assoc-acdm             12   \n",
       "32557   40            Private  154374      HS-grad              9   \n",
       "32558   58            Private  151910      HS-grad              9   \n",
       "32559   22            Private  201490      HS-grad              9   \n",
       "32560   52       Self-emp-inc  287927      HS-grad              9   \n",
       "\n",
       "            marital-status          occupation    relationship    race  \\\n",
       "0            Never-married        Adm-clerical   Not-in-family   White   \n",
       "1       Married-civ-spouse     Exec-managerial         Husband   White   \n",
       "2                 Divorced   Handlers-cleaners   Not-in-family   White   \n",
       "3       Married-civ-spouse   Handlers-cleaners         Husband   Black   \n",
       "4       Married-civ-spouse      Prof-specialty            Wife   Black   \n",
       "...                    ...                 ...             ...     ...   \n",
       "32556   Married-civ-spouse        Tech-support            Wife   White   \n",
       "32557   Married-civ-spouse   Machine-op-inspct         Husband   White   \n",
       "32558              Widowed        Adm-clerical       Unmarried   White   \n",
       "32559        Never-married        Adm-clerical       Own-child   White   \n",
       "32560   Married-civ-spouse     Exec-managerial            Wife   White   \n",
       "\n",
       "           sex  capital-gain  capital-loss  hours-per-week  native-country  \\\n",
       "0         Male          2174             0              40   United-States   \n",
       "1         Male             0             0              13   United-States   \n",
       "2         Male             0             0              40   United-States   \n",
       "3         Male             0             0              40   United-States   \n",
       "4       Female             0             0              40            Cuba   \n",
       "...        ...           ...           ...             ...             ...   \n",
       "32556   Female             0             0              38   United-States   \n",
       "32557     Male             0             0              40   United-States   \n",
       "32558   Female             0             0              40   United-States   \n",
       "32559     Male             0             0              20   United-States   \n",
       "32560   Female         15024             0              40   United-States   \n",
       "\n",
       "       income  \n",
       "0       <=50K  \n",
       "1       <=50K  \n",
       "2       <=50K  \n",
       "3       <=50K  \n",
       "4       <=50K  \n",
       "...       ...  \n",
       "32556   <=50K  \n",
       "32557    >50K  \n",
       "32558   <=50K  \n",
       "32559   <=50K  \n",
       "32560    >50K  \n",
       "\n",
       "[32561 rows x 15 columns]"
      ]
     },
     "metadata": {},
     "output_type": "display_data"
    },
    {
     "name": "stdout",
     "output_type": "stream",
     "text": [
      "\n",
      "Columns description:\n",
      "\n",
      "<class 'pandas.core.frame.DataFrame'>\n",
      "RangeIndex: 32561 entries, 0 to 32560\n",
      "Data columns (total 15 columns):\n",
      " #   Column          Non-Null Count  Dtype \n",
      "---  ------          --------------  ----- \n",
      " 0   age             32561 non-null  int64 \n",
      " 1   workclass       32561 non-null  object\n",
      " 2   fnlwgt          32561 non-null  int64 \n",
      " 3   education       32561 non-null  object\n",
      " 4   education-num   32561 non-null  int64 \n",
      " 5   marital-status  32561 non-null  object\n",
      " 6   occupation      32561 non-null  object\n",
      " 7   relationship    32561 non-null  object\n",
      " 8   race            32561 non-null  object\n",
      " 9   sex             32561 non-null  object\n",
      " 10  capital-gain    32561 non-null  int64 \n",
      " 11  capital-loss    32561 non-null  int64 \n",
      " 12  hours-per-week  32561 non-null  int64 \n",
      " 13  native-country  32561 non-null  object\n",
      " 14  income          32561 non-null  object\n",
      "dtypes: int64(6), object(9)\n",
      "memory usage: 3.7+ MB\n"
     ]
    },
    {
     "data": {
      "text/plain": [
       "None"
      ]
     },
     "metadata": {},
     "output_type": "display_data"
    },
    {
     "data": {
      "text/html": [
       "<div>\n",
       "<style scoped>\n",
       "    .dataframe tbody tr th:only-of-type {\n",
       "        vertical-align: middle;\n",
       "    }\n",
       "\n",
       "    .dataframe tbody tr th {\n",
       "        vertical-align: top;\n",
       "    }\n",
       "\n",
       "    .dataframe thead th {\n",
       "        text-align: right;\n",
       "    }\n",
       "</style>\n",
       "<table border=\"1\" class=\"dataframe\">\n",
       "  <thead>\n",
       "    <tr style=\"text-align: right;\">\n",
       "      <th></th>\n",
       "      <th>age</th>\n",
       "      <th>fnlwgt</th>\n",
       "      <th>education-num</th>\n",
       "      <th>capital-gain</th>\n",
       "      <th>capital-loss</th>\n",
       "      <th>hours-per-week</th>\n",
       "    </tr>\n",
       "  </thead>\n",
       "  <tbody>\n",
       "    <tr>\n",
       "      <th>count</th>\n",
       "      <td>32561.000000</td>\n",
       "      <td>3.256100e+04</td>\n",
       "      <td>32561.000000</td>\n",
       "      <td>32561.000000</td>\n",
       "      <td>32561.000000</td>\n",
       "      <td>32561.000000</td>\n",
       "    </tr>\n",
       "    <tr>\n",
       "      <th>mean</th>\n",
       "      <td>38.581647</td>\n",
       "      <td>1.897784e+05</td>\n",
       "      <td>10.080679</td>\n",
       "      <td>1077.648844</td>\n",
       "      <td>87.303830</td>\n",
       "      <td>40.437456</td>\n",
       "    </tr>\n",
       "    <tr>\n",
       "      <th>std</th>\n",
       "      <td>13.640433</td>\n",
       "      <td>1.055500e+05</td>\n",
       "      <td>2.572720</td>\n",
       "      <td>7385.292085</td>\n",
       "      <td>402.960219</td>\n",
       "      <td>12.347429</td>\n",
       "    </tr>\n",
       "    <tr>\n",
       "      <th>min</th>\n",
       "      <td>17.000000</td>\n",
       "      <td>1.228500e+04</td>\n",
       "      <td>1.000000</td>\n",
       "      <td>0.000000</td>\n",
       "      <td>0.000000</td>\n",
       "      <td>1.000000</td>\n",
       "    </tr>\n",
       "    <tr>\n",
       "      <th>25%</th>\n",
       "      <td>28.000000</td>\n",
       "      <td>1.178270e+05</td>\n",
       "      <td>9.000000</td>\n",
       "      <td>0.000000</td>\n",
       "      <td>0.000000</td>\n",
       "      <td>40.000000</td>\n",
       "    </tr>\n",
       "    <tr>\n",
       "      <th>50%</th>\n",
       "      <td>37.000000</td>\n",
       "      <td>1.783560e+05</td>\n",
       "      <td>10.000000</td>\n",
       "      <td>0.000000</td>\n",
       "      <td>0.000000</td>\n",
       "      <td>40.000000</td>\n",
       "    </tr>\n",
       "    <tr>\n",
       "      <th>75%</th>\n",
       "      <td>48.000000</td>\n",
       "      <td>2.370510e+05</td>\n",
       "      <td>12.000000</td>\n",
       "      <td>0.000000</td>\n",
       "      <td>0.000000</td>\n",
       "      <td>45.000000</td>\n",
       "    </tr>\n",
       "    <tr>\n",
       "      <th>max</th>\n",
       "      <td>90.000000</td>\n",
       "      <td>1.484705e+06</td>\n",
       "      <td>16.000000</td>\n",
       "      <td>99999.000000</td>\n",
       "      <td>4356.000000</td>\n",
       "      <td>99.000000</td>\n",
       "    </tr>\n",
       "  </tbody>\n",
       "</table>\n",
       "</div>"
      ],
      "text/plain": [
       "                age        fnlwgt  education-num  capital-gain  capital-loss  \\\n",
       "count  32561.000000  3.256100e+04   32561.000000  32561.000000  32561.000000   \n",
       "mean      38.581647  1.897784e+05      10.080679   1077.648844     87.303830   \n",
       "std       13.640433  1.055500e+05       2.572720   7385.292085    402.960219   \n",
       "min       17.000000  1.228500e+04       1.000000      0.000000      0.000000   \n",
       "25%       28.000000  1.178270e+05       9.000000      0.000000      0.000000   \n",
       "50%       37.000000  1.783560e+05      10.000000      0.000000      0.000000   \n",
       "75%       48.000000  2.370510e+05      12.000000      0.000000      0.000000   \n",
       "max       90.000000  1.484705e+06      16.000000  99999.000000   4356.000000   \n",
       "\n",
       "       hours-per-week  \n",
       "count    32561.000000  \n",
       "mean        40.437456  \n",
       "std         12.347429  \n",
       "min          1.000000  \n",
       "25%         40.000000  \n",
       "50%         40.000000  \n",
       "75%         45.000000  \n",
       "max         99.000000  "
      ]
     },
     "metadata": {},
     "output_type": "display_data"
    },
    {
     "name": "stdout",
     "output_type": "stream",
     "text": [
      "\n",
      "Null values:\n",
      "\n"
     ]
    },
    {
     "data": {
      "text/plain": [
       "age               0\n",
       "workclass         0\n",
       "fnlwgt            0\n",
       "education         0\n",
       "education-num     0\n",
       "marital-status    0\n",
       "occupation        0\n",
       "relationship      0\n",
       "race              0\n",
       "sex               0\n",
       "capital-gain      0\n",
       "capital-loss      0\n",
       "hours-per-week    0\n",
       "native-country    0\n",
       "income            0\n",
       "dtype: int64"
      ]
     },
     "metadata": {},
     "output_type": "display_data"
    }
   ],
   "source": [
    "dataset_description(train_data)\n"
   ]
  },
  {
   "cell_type": "markdown",
   "id": "9847eeca",
   "metadata": {},
   "source": [
    "# Testing dataset\n"
   ]
  },
  {
   "cell_type": "markdown",
   "id": "919c6855",
   "metadata": {},
   "source": [
    "**Dataset size:** 16281 entries\\ Total columns: 15 columns plus an index column\\ Total features: 15 features\\ Target feature: Target feature (income)"
   ]
  },
  {
   "cell_type": "markdown",
   "id": "ad928612",
   "metadata": {},
   "source": [
    "**Missing data:**"
   ]
  },
  {
   "cell_type": "markdown",
   "id": "3514e539",
   "metadata": {},
   "source": [
    "There are no null data in any of the dataset columns."
   ]
  },
  {
   "cell_type": "markdown",
   "id": "8d3aba04",
   "metadata": {},
   "source": [
    "However, there are missing or wrong data in some columns indicated by the symbol '?'.\n"
   ]
  },
  {
   "cell_type": "markdown",
   "id": "8e0f99c3",
   "metadata": {},
   "source": [
    "**This dataset will be only used in the testing step to evaluate the performance of the proposed ML models trained over the train dataset in the training step.**"
   ]
  },
  {
   "cell_type": "code",
   "execution_count": 51,
   "id": "edbbfc38",
   "metadata": {},
   "outputs": [
    {
     "name": "stdout",
     "output_type": "stream",
     "text": [
      "Dataset shape: (16281, 15)\n",
      "\n",
      "Dataset columns: Index(['age', 'workclass', 'fnlwgt', 'education', 'education-num',\n",
      "       'marital-status', 'occupation', 'relationship', 'race', 'sex',\n",
      "       'capital-gain', 'capital-loss', 'hours-per-week', 'native-country',\n",
      "       'income'],\n",
      "      dtype='object')\n",
      "\n",
      "Dataset first and last rows:\n",
      "\n"
     ]
    },
    {
     "data": {
      "text/html": [
       "<div>\n",
       "<style scoped>\n",
       "    .dataframe tbody tr th:only-of-type {\n",
       "        vertical-align: middle;\n",
       "    }\n",
       "\n",
       "    .dataframe tbody tr th {\n",
       "        vertical-align: top;\n",
       "    }\n",
       "\n",
       "    .dataframe thead th {\n",
       "        text-align: right;\n",
       "    }\n",
       "</style>\n",
       "<table border=\"1\" class=\"dataframe\">\n",
       "  <thead>\n",
       "    <tr style=\"text-align: right;\">\n",
       "      <th></th>\n",
       "      <th>age</th>\n",
       "      <th>workclass</th>\n",
       "      <th>fnlwgt</th>\n",
       "      <th>education</th>\n",
       "      <th>education-num</th>\n",
       "      <th>marital-status</th>\n",
       "      <th>occupation</th>\n",
       "      <th>relationship</th>\n",
       "      <th>race</th>\n",
       "      <th>sex</th>\n",
       "      <th>capital-gain</th>\n",
       "      <th>capital-loss</th>\n",
       "      <th>hours-per-week</th>\n",
       "      <th>native-country</th>\n",
       "      <th>income</th>\n",
       "    </tr>\n",
       "  </thead>\n",
       "  <tbody>\n",
       "    <tr>\n",
       "      <th>0</th>\n",
       "      <td>25</td>\n",
       "      <td>Private</td>\n",
       "      <td>226802.0</td>\n",
       "      <td>11th</td>\n",
       "      <td>7.0</td>\n",
       "      <td>Never-married</td>\n",
       "      <td>Machine-op-inspct</td>\n",
       "      <td>Own-child</td>\n",
       "      <td>Black</td>\n",
       "      <td>Male</td>\n",
       "      <td>0.0</td>\n",
       "      <td>0.0</td>\n",
       "      <td>40.0</td>\n",
       "      <td>United-States</td>\n",
       "      <td>&lt;=50K.</td>\n",
       "    </tr>\n",
       "    <tr>\n",
       "      <th>1</th>\n",
       "      <td>38</td>\n",
       "      <td>Private</td>\n",
       "      <td>89814.0</td>\n",
       "      <td>HS-grad</td>\n",
       "      <td>9.0</td>\n",
       "      <td>Married-civ-spouse</td>\n",
       "      <td>Farming-fishing</td>\n",
       "      <td>Husband</td>\n",
       "      <td>White</td>\n",
       "      <td>Male</td>\n",
       "      <td>0.0</td>\n",
       "      <td>0.0</td>\n",
       "      <td>50.0</td>\n",
       "      <td>United-States</td>\n",
       "      <td>&lt;=50K.</td>\n",
       "    </tr>\n",
       "    <tr>\n",
       "      <th>2</th>\n",
       "      <td>28</td>\n",
       "      <td>Local-gov</td>\n",
       "      <td>336951.0</td>\n",
       "      <td>Assoc-acdm</td>\n",
       "      <td>12.0</td>\n",
       "      <td>Married-civ-spouse</td>\n",
       "      <td>Protective-serv</td>\n",
       "      <td>Husband</td>\n",
       "      <td>White</td>\n",
       "      <td>Male</td>\n",
       "      <td>0.0</td>\n",
       "      <td>0.0</td>\n",
       "      <td>40.0</td>\n",
       "      <td>United-States</td>\n",
       "      <td>&gt;50K.</td>\n",
       "    </tr>\n",
       "    <tr>\n",
       "      <th>3</th>\n",
       "      <td>44</td>\n",
       "      <td>Private</td>\n",
       "      <td>160323.0</td>\n",
       "      <td>Some-college</td>\n",
       "      <td>10.0</td>\n",
       "      <td>Married-civ-spouse</td>\n",
       "      <td>Machine-op-inspct</td>\n",
       "      <td>Husband</td>\n",
       "      <td>Black</td>\n",
       "      <td>Male</td>\n",
       "      <td>7688.0</td>\n",
       "      <td>0.0</td>\n",
       "      <td>40.0</td>\n",
       "      <td>United-States</td>\n",
       "      <td>&gt;50K.</td>\n",
       "    </tr>\n",
       "    <tr>\n",
       "      <th>4</th>\n",
       "      <td>18</td>\n",
       "      <td>?</td>\n",
       "      <td>103497.0</td>\n",
       "      <td>Some-college</td>\n",
       "      <td>10.0</td>\n",
       "      <td>Never-married</td>\n",
       "      <td>?</td>\n",
       "      <td>Own-child</td>\n",
       "      <td>White</td>\n",
       "      <td>Female</td>\n",
       "      <td>0.0</td>\n",
       "      <td>0.0</td>\n",
       "      <td>30.0</td>\n",
       "      <td>United-States</td>\n",
       "      <td>&lt;=50K.</td>\n",
       "    </tr>\n",
       "    <tr>\n",
       "      <th>...</th>\n",
       "      <td>...</td>\n",
       "      <td>...</td>\n",
       "      <td>...</td>\n",
       "      <td>...</td>\n",
       "      <td>...</td>\n",
       "      <td>...</td>\n",
       "      <td>...</td>\n",
       "      <td>...</td>\n",
       "      <td>...</td>\n",
       "      <td>...</td>\n",
       "      <td>...</td>\n",
       "      <td>...</td>\n",
       "      <td>...</td>\n",
       "      <td>...</td>\n",
       "      <td>...</td>\n",
       "    </tr>\n",
       "    <tr>\n",
       "      <th>16276</th>\n",
       "      <td>39</td>\n",
       "      <td>Private</td>\n",
       "      <td>215419.0</td>\n",
       "      <td>Bachelors</td>\n",
       "      <td>13.0</td>\n",
       "      <td>Divorced</td>\n",
       "      <td>Prof-specialty</td>\n",
       "      <td>Not-in-family</td>\n",
       "      <td>White</td>\n",
       "      <td>Female</td>\n",
       "      <td>0.0</td>\n",
       "      <td>0.0</td>\n",
       "      <td>36.0</td>\n",
       "      <td>United-States</td>\n",
       "      <td>&lt;=50K.</td>\n",
       "    </tr>\n",
       "    <tr>\n",
       "      <th>16277</th>\n",
       "      <td>64</td>\n",
       "      <td>?</td>\n",
       "      <td>321403.0</td>\n",
       "      <td>HS-grad</td>\n",
       "      <td>9.0</td>\n",
       "      <td>Widowed</td>\n",
       "      <td>?</td>\n",
       "      <td>Other-relative</td>\n",
       "      <td>Black</td>\n",
       "      <td>Male</td>\n",
       "      <td>0.0</td>\n",
       "      <td>0.0</td>\n",
       "      <td>40.0</td>\n",
       "      <td>United-States</td>\n",
       "      <td>&lt;=50K.</td>\n",
       "    </tr>\n",
       "    <tr>\n",
       "      <th>16278</th>\n",
       "      <td>38</td>\n",
       "      <td>Private</td>\n",
       "      <td>374983.0</td>\n",
       "      <td>Bachelors</td>\n",
       "      <td>13.0</td>\n",
       "      <td>Married-civ-spouse</td>\n",
       "      <td>Prof-specialty</td>\n",
       "      <td>Husband</td>\n",
       "      <td>White</td>\n",
       "      <td>Male</td>\n",
       "      <td>0.0</td>\n",
       "      <td>0.0</td>\n",
       "      <td>50.0</td>\n",
       "      <td>United-States</td>\n",
       "      <td>&lt;=50K.</td>\n",
       "    </tr>\n",
       "    <tr>\n",
       "      <th>16279</th>\n",
       "      <td>44</td>\n",
       "      <td>Private</td>\n",
       "      <td>83891.0</td>\n",
       "      <td>Bachelors</td>\n",
       "      <td>13.0</td>\n",
       "      <td>Divorced</td>\n",
       "      <td>Adm-clerical</td>\n",
       "      <td>Own-child</td>\n",
       "      <td>Asian-Pac-Islander</td>\n",
       "      <td>Male</td>\n",
       "      <td>5455.0</td>\n",
       "      <td>0.0</td>\n",
       "      <td>40.0</td>\n",
       "      <td>United-States</td>\n",
       "      <td>&lt;=50K.</td>\n",
       "    </tr>\n",
       "    <tr>\n",
       "      <th>16280</th>\n",
       "      <td>35</td>\n",
       "      <td>Self-emp-inc</td>\n",
       "      <td>182148.0</td>\n",
       "      <td>Bachelors</td>\n",
       "      <td>13.0</td>\n",
       "      <td>Married-civ-spouse</td>\n",
       "      <td>Exec-managerial</td>\n",
       "      <td>Husband</td>\n",
       "      <td>White</td>\n",
       "      <td>Male</td>\n",
       "      <td>0.0</td>\n",
       "      <td>0.0</td>\n",
       "      <td>60.0</td>\n",
       "      <td>United-States</td>\n",
       "      <td>&gt;50K.</td>\n",
       "    </tr>\n",
       "  </tbody>\n",
       "</table>\n",
       "<p>16281 rows × 15 columns</p>\n",
       "</div>"
      ],
      "text/plain": [
       "       age      workclass    fnlwgt      education  education-num  \\\n",
       "0       25        Private  226802.0           11th            7.0   \n",
       "1       38        Private   89814.0        HS-grad            9.0   \n",
       "2       28      Local-gov  336951.0     Assoc-acdm           12.0   \n",
       "3       44        Private  160323.0   Some-college           10.0   \n",
       "4       18              ?  103497.0   Some-college           10.0   \n",
       "...    ...            ...       ...            ...            ...   \n",
       "16276   39        Private  215419.0      Bachelors           13.0   \n",
       "16277   64              ?  321403.0        HS-grad            9.0   \n",
       "16278   38        Private  374983.0      Bachelors           13.0   \n",
       "16279   44        Private   83891.0      Bachelors           13.0   \n",
       "16280   35   Self-emp-inc  182148.0      Bachelors           13.0   \n",
       "\n",
       "            marital-status          occupation     relationship  \\\n",
       "0            Never-married   Machine-op-inspct        Own-child   \n",
       "1       Married-civ-spouse     Farming-fishing          Husband   \n",
       "2       Married-civ-spouse     Protective-serv          Husband   \n",
       "3       Married-civ-spouse   Machine-op-inspct          Husband   \n",
       "4            Never-married                   ?        Own-child   \n",
       "...                    ...                 ...              ...   \n",
       "16276             Divorced      Prof-specialty    Not-in-family   \n",
       "16277              Widowed                   ?   Other-relative   \n",
       "16278   Married-civ-spouse      Prof-specialty          Husband   \n",
       "16279             Divorced        Adm-clerical        Own-child   \n",
       "16280   Married-civ-spouse     Exec-managerial          Husband   \n",
       "\n",
       "                      race      sex  capital-gain  capital-loss  \\\n",
       "0                    Black     Male           0.0           0.0   \n",
       "1                    White     Male           0.0           0.0   \n",
       "2                    White     Male           0.0           0.0   \n",
       "3                    Black     Male        7688.0           0.0   \n",
       "4                    White   Female           0.0           0.0   \n",
       "...                    ...      ...           ...           ...   \n",
       "16276                White   Female           0.0           0.0   \n",
       "16277                Black     Male           0.0           0.0   \n",
       "16278                White     Male           0.0           0.0   \n",
       "16279   Asian-Pac-Islander     Male        5455.0           0.0   \n",
       "16280                White     Male           0.0           0.0   \n",
       "\n",
       "       hours-per-week  native-country   income  \n",
       "0                40.0   United-States   <=50K.  \n",
       "1                50.0   United-States   <=50K.  \n",
       "2                40.0   United-States    >50K.  \n",
       "3                40.0   United-States    >50K.  \n",
       "4                30.0   United-States   <=50K.  \n",
       "...               ...             ...      ...  \n",
       "16276            36.0   United-States   <=50K.  \n",
       "16277            40.0   United-States   <=50K.  \n",
       "16278            50.0   United-States   <=50K.  \n",
       "16279            40.0   United-States   <=50K.  \n",
       "16280            60.0   United-States    >50K.  \n",
       "\n",
       "[16281 rows x 15 columns]"
      ]
     },
     "metadata": {},
     "output_type": "display_data"
    },
    {
     "name": "stdout",
     "output_type": "stream",
     "text": [
      "\n",
      "Columns description:\n",
      "\n",
      "<class 'pandas.core.frame.DataFrame'>\n",
      "RangeIndex: 16281 entries, 0 to 16280\n",
      "Data columns (total 15 columns):\n",
      " #   Column          Non-Null Count  Dtype  \n",
      "---  ------          --------------  -----  \n",
      " 0   age             16281 non-null  int64  \n",
      " 1   workclass       16281 non-null  object \n",
      " 2   fnlwgt          16281 non-null  float64\n",
      " 3   education       16281 non-null  object \n",
      " 4   education-num   16281 non-null  float64\n",
      " 5   marital-status  16281 non-null  object \n",
      " 6   occupation      16281 non-null  object \n",
      " 7   relationship    16281 non-null  object \n",
      " 8   race            16281 non-null  object \n",
      " 9   sex             16281 non-null  object \n",
      " 10  capital-gain    16281 non-null  float64\n",
      " 11  capital-loss    16281 non-null  float64\n",
      " 12  hours-per-week  16281 non-null  float64\n",
      " 13  native-country  16281 non-null  object \n",
      " 14  income          16281 non-null  object \n",
      "dtypes: float64(5), int64(1), object(9)\n",
      "memory usage: 1.9+ MB\n"
     ]
    },
    {
     "data": {
      "text/plain": [
       "None"
      ]
     },
     "metadata": {},
     "output_type": "display_data"
    },
    {
     "data": {
      "text/html": [
       "<div>\n",
       "<style scoped>\n",
       "    .dataframe tbody tr th:only-of-type {\n",
       "        vertical-align: middle;\n",
       "    }\n",
       "\n",
       "    .dataframe tbody tr th {\n",
       "        vertical-align: top;\n",
       "    }\n",
       "\n",
       "    .dataframe thead th {\n",
       "        text-align: right;\n",
       "    }\n",
       "</style>\n",
       "<table border=\"1\" class=\"dataframe\">\n",
       "  <thead>\n",
       "    <tr style=\"text-align: right;\">\n",
       "      <th></th>\n",
       "      <th>age</th>\n",
       "      <th>fnlwgt</th>\n",
       "      <th>education-num</th>\n",
       "      <th>capital-gain</th>\n",
       "      <th>capital-loss</th>\n",
       "      <th>hours-per-week</th>\n",
       "    </tr>\n",
       "  </thead>\n",
       "  <tbody>\n",
       "    <tr>\n",
       "      <th>count</th>\n",
       "      <td>16281.000000</td>\n",
       "      <td>1.628100e+04</td>\n",
       "      <td>16281.000000</td>\n",
       "      <td>16281.000000</td>\n",
       "      <td>16281.000000</td>\n",
       "      <td>16281.000000</td>\n",
       "    </tr>\n",
       "    <tr>\n",
       "      <th>mean</th>\n",
       "      <td>38.767459</td>\n",
       "      <td>1.894357e+05</td>\n",
       "      <td>10.072907</td>\n",
       "      <td>1081.905104</td>\n",
       "      <td>87.899269</td>\n",
       "      <td>40.392236</td>\n",
       "    </tr>\n",
       "    <tr>\n",
       "      <th>std</th>\n",
       "      <td>13.849187</td>\n",
       "      <td>1.057149e+05</td>\n",
       "      <td>2.567545</td>\n",
       "      <td>7583.935968</td>\n",
       "      <td>403.105286</td>\n",
       "      <td>12.479332</td>\n",
       "    </tr>\n",
       "    <tr>\n",
       "      <th>min</th>\n",
       "      <td>17.000000</td>\n",
       "      <td>1.349200e+04</td>\n",
       "      <td>1.000000</td>\n",
       "      <td>0.000000</td>\n",
       "      <td>0.000000</td>\n",
       "      <td>1.000000</td>\n",
       "    </tr>\n",
       "    <tr>\n",
       "      <th>25%</th>\n",
       "      <td>28.000000</td>\n",
       "      <td>1.167360e+05</td>\n",
       "      <td>9.000000</td>\n",
       "      <td>0.000000</td>\n",
       "      <td>0.000000</td>\n",
       "      <td>40.000000</td>\n",
       "    </tr>\n",
       "    <tr>\n",
       "      <th>50%</th>\n",
       "      <td>37.000000</td>\n",
       "      <td>1.778310e+05</td>\n",
       "      <td>10.000000</td>\n",
       "      <td>0.000000</td>\n",
       "      <td>0.000000</td>\n",
       "      <td>40.000000</td>\n",
       "    </tr>\n",
       "    <tr>\n",
       "      <th>75%</th>\n",
       "      <td>48.000000</td>\n",
       "      <td>2.383840e+05</td>\n",
       "      <td>12.000000</td>\n",
       "      <td>0.000000</td>\n",
       "      <td>0.000000</td>\n",
       "      <td>45.000000</td>\n",
       "    </tr>\n",
       "    <tr>\n",
       "      <th>max</th>\n",
       "      <td>90.000000</td>\n",
       "      <td>1.490400e+06</td>\n",
       "      <td>16.000000</td>\n",
       "      <td>99999.000000</td>\n",
       "      <td>3770.000000</td>\n",
       "      <td>99.000000</td>\n",
       "    </tr>\n",
       "  </tbody>\n",
       "</table>\n",
       "</div>"
      ],
      "text/plain": [
       "                age        fnlwgt  education-num  capital-gain  capital-loss  \\\n",
       "count  16281.000000  1.628100e+04   16281.000000  16281.000000  16281.000000   \n",
       "mean      38.767459  1.894357e+05      10.072907   1081.905104     87.899269   \n",
       "std       13.849187  1.057149e+05       2.567545   7583.935968    403.105286   \n",
       "min       17.000000  1.349200e+04       1.000000      0.000000      0.000000   \n",
       "25%       28.000000  1.167360e+05       9.000000      0.000000      0.000000   \n",
       "50%       37.000000  1.778310e+05      10.000000      0.000000      0.000000   \n",
       "75%       48.000000  2.383840e+05      12.000000      0.000000      0.000000   \n",
       "max       90.000000  1.490400e+06      16.000000  99999.000000   3770.000000   \n",
       "\n",
       "       hours-per-week  \n",
       "count    16281.000000  \n",
       "mean        40.392236  \n",
       "std         12.479332  \n",
       "min          1.000000  \n",
       "25%         40.000000  \n",
       "50%         40.000000  \n",
       "75%         45.000000  \n",
       "max         99.000000  "
      ]
     },
     "metadata": {},
     "output_type": "display_data"
    },
    {
     "name": "stdout",
     "output_type": "stream",
     "text": [
      "\n",
      "Null values:\n",
      "\n"
     ]
    },
    {
     "data": {
      "text/plain": [
       "age               0\n",
       "workclass         0\n",
       "fnlwgt            0\n",
       "education         0\n",
       "education-num     0\n",
       "marital-status    0\n",
       "occupation        0\n",
       "relationship      0\n",
       "race              0\n",
       "sex               0\n",
       "capital-gain      0\n",
       "capital-loss      0\n",
       "hours-per-week    0\n",
       "native-country    0\n",
       "income            0\n",
       "dtype: int64"
      ]
     },
     "metadata": {},
     "output_type": "display_data"
    }
   ],
   "source": [
    "dataset_description(test_data)"
   ]
  },
  {
   "cell_type": "markdown",
   "id": "407fd90a",
   "metadata": {},
   "source": [
    "# Feature analysis\n"
   ]
  },
  {
   "cell_type": "markdown",
   "id": "3dad58bf",
   "metadata": {},
   "source": [
    "The analyses conducted in this block are performed on the training dataset, which will be used to fit the ML models.\n",
    "\n"
   ]
  },
  {
   "cell_type": "markdown",
   "id": "8f927b45",
   "metadata": {},
   "source": [
    "**Target feature income**\n"
   ]
  },
  {
   "cell_type": "markdown",
   "id": "3c2f2e31",
   "metadata": {},
   "source": [
    "It defines whether a person makes over $50K a year (class >50K) or not (class <=50) based on census data."
   ]
  },
  {
   "cell_type": "markdown",
   "id": "ed217a86",
   "metadata": {},
   "source": [
    "Categorical target feature with 2 classes.\n",
    "\n"
   ]
  },
  {
   "cell_type": "markdown",
   "id": "7b9f3c2b",
   "metadata": {},
   "source": [
    "No missing or null data."
   ]
  },
  {
   "cell_type": "markdown",
   "id": "90219782",
   "metadata": {},
   "source": [
    "Unbalanced data values, where 76% (24720) of people make less or equal to $50K a year, and 24% (7841) of people make over $50K  a year.\n",
    "\n",
    " "
   ]
  },
  {
   "cell_type": "markdown",
   "id": "b01b624c",
   "metadata": {},
   "source": [
    "Such imbalance might be caused by specific features that tend to influence the increase/decrease the annual income more significantly. For example, feature age may reflect on work experience and seniority of the position."
   ]
  },
  {
   "cell_type": "markdown",
   "id": "76c67d3d",
   "metadata": {},
   "source": [
    "Thus, it's important to analyze each feature individually, as well as the relationship between them.\n",
    "\n"
   ]
  },
  {
   "cell_type": "code",
   "execution_count": null,
   "id": "ae239a50",
   "metadata": {},
   "outputs": [],
   "source": [
    "var='income'\n",
    "categorical_feature_analysis(train_data, var)\n",
    "\n",
    "##plot distribution\n",
    "ax=train_data[var].value_counts().plot.bar()\n",
    "ax.set_title('Data distribution of feature '+var)\n",
    "ax.set_ylabel('Number of people')\n",
    "ax.set_xlabel('Annual income')\n",
    "ax.set_xticklabels(labels=[' <=50K', ' >50K'])"
   ]
  },
  {
   "cell_type": "markdown",
   "id": "7ea043d4",
   "metadata": {},
   "source": [
    "# Feature age\n"
   ]
  },
  {
   "cell_type": "markdown",
   "id": "21cdb727",
   "metadata": {},
   "source": [
    "Distribution of data values:\\ **count:** 32561\\ **null:** 0\\ **mean:** 38.58 years\\ **std:** 13.64 years\\ **min:** 17 years\\ **25%:** 28 years\\ **50%:** 37 years\\ **75%:** 48 years\\ **max:** 90 years"
   ]
  },
  {
   "cell_type": "markdown",
   "id": "c48591f4",
   "metadata": {},
   "source": [
    "1. Numerical feature with values ranging from 17 to 90 years.\n",
    "\n"
   ]
  },
  {
   "cell_type": "markdown",
   "id": "4073bae6",
   "metadata": {},
   "source": [
    "2. No missing or null data.\n",
    "\n"
   ]
  },
  {
   "cell_type": "markdown",
   "id": "2783ea9c",
   "metadata": {},
   "source": [
    "3. Unbalanced data distribuiton, with greater concentration of people aged between 20 and 48 years.\n",
    "\n"
   ]
  },
  {
   "cell_type": "markdown",
   "id": "9f187165",
   "metadata": {},
   "source": [
    "4. Age values present an average of 38.58 years and median of 37 years.\n",
    "\n"
   ]
  },
  {
   "cell_type": "markdown",
   "id": "a38d4dbe",
   "metadata": {},
   "source": [
    "5. 25% of people are under 28 years old and 75% of people have less than 48 years old.\n",
    "\n"
   ]
  },
  {
   "cell_type": "markdown",
   "id": "6ec0ff28",
   "metadata": {},
   "source": [
    "6. Regarding the relationship between ages and incomes, we note that older people tend to make over  a year, whereas younger people tend to make less or equal to $50K/Yr ."
   ]
  },
  {
   "cell_type": "markdown",
   "id": "3ff5167b",
   "metadata": {},
   "source": [
    "7. However, there is an intersection between the boxplots, where we notice that some older people make less money a year than youngers, and vice versa. It shows the relevance of other features to the problem."
   ]
  },
  {
   "cell_type": "markdown",
   "id": "52a0d9c1",
   "metadata": {},
   "source": [
    "8. We also note some outliers in both classes regarding ages higher than 75 years."
   ]
  },
  {
   "cell_type": "code",
   "execution_count": null,
   "id": "d952c6c8",
   "metadata": {},
   "outputs": [],
   "source": [
    "var='age'\n",
    "continuous_feature_analysis(train_data, var)\n",
    "\n",
    "ax=train_data[var].hist(bins=50)\n",
    "ax.set_title('Data distribution of feature '+var)\n",
    "ax.set_ylabel('Number of People')\n",
    "ax.set_xlabel('Age')\n",
    "plt.show()\n",
    "\n",
    "sns.boxplot(y='age', x='income', data=train_data)\n",
    "plt.show()\n"
   ]
  },
  {
   "cell_type": "markdown",
   "id": "52a30a1e",
   "metadata": {},
   "source": [
    "# Feature fnlwgt\n"
   ]
  },
  {
   "cell_type": "markdown",
   "id": "7263fa4a",
   "metadata": {},
   "source": [
    "It represents the estimated final weight of each person assigned by the Census Bureau. The weight means that if two samples share similar fnlwgt, they also share similar characteristics."
   ]
  },
  {
   "cell_type": "markdown",
   "id": "1f0ded36",
   "metadata": {},
   "source": [
    "1. Numerical feature with large scale values, and almost a distinct value to each person."
   ]
  },
  {
   "cell_type": "markdown",
   "id": "469e739f",
   "metadata": {},
   "source": [
    "2. No missing or null data.\n",
    "\n"
   ]
  },
  {
   "cell_type": "markdown",
   "id": "4fc6ec22",
   "metadata": {},
   "source": [
    "3. Regarding the relationship between features fnlwgt and income, we note that the boxplots for both classes of the target feature regarding the data distribution of fnlwgt did not show notable differences."
   ]
  },
  {
   "cell_type": "markdown",
   "id": "bbde3c19",
   "metadata": {},
   "source": [
    "4. This may indicate that fnlwgt is not so useful for the model."
   ]
  },
  {
   "cell_type": "markdown",
   "id": "535db329",
   "metadata": {},
   "source": [
    "5. We also note outliers in both classes of the target regarding the values of fnlwgt.\n",
    "\n"
   ]
  },
  {
   "cell_type": "code",
   "execution_count": null,
   "id": "358b29ad",
   "metadata": {},
   "outputs": [],
   "source": [
    "var='fnlwgt'\n",
    "continuous_feature_analysis(train_data, var)\n",
    "\n",
    "ax=train_data[var].hist(bins=100)\n",
    "ax.set_title('Data distribution of feature '+var)\n",
    "ax.set_ylabel('Number of People')\n",
    "ax.set_xlabel('fnlwgt')\n",
    "plt.show()\n",
    "\n",
    "sns.boxplot(y='fnlwgt', x='income', data=train_data)\n",
    "plt.show()"
   ]
  },
  {
   "cell_type": "markdown",
   "id": "924c4a06",
   "metadata": {},
   "source": [
    "# Feature education\n"
   ]
  },
  {
   "cell_type": "markdown",
   "id": "e7d78281",
   "metadata": {},
   "source": [
    "1. Categorical feature with 16 distinct categories of education.\n",
    "\n"
   ]
  },
  {
   "cell_type": "markdown",
   "id": "6f8b5efa",
   "metadata": {},
   "source": [
    "2. No missing or null data.\n",
    "\n"
   ]
  },
  {
   "cell_type": "markdown",
   "id": "b001bb12",
   "metadata": {},
   "source": [
    "3. Unbalanced data values, where 32.3% (10501) of people have only the high school graduation (HS-grad), followed by 22.4% (7291) of people that have some college degree, and 16.4% (5355) of people that have bachelor's degree."
   ]
  },
  {
   "cell_type": "markdown",
   "id": "5ef4fe19",
   "metadata": {},
   "source": [
    "4. This 3 classes together represent 71.1% of the data.\n",
    "\n"
   ]
  },
  {
   "cell_type": "markdown",
   "id": "121cce28",
   "metadata": {},
   "source": [
    "5. On the contrary, only 1.27% (413) of people have doctorate degree.\n",
    "\n"
   ]
  },
  {
   "cell_type": "markdown",
   "id": "46ade0d1",
   "metadata": {},
   "source": [
    "6. We note that some classes seem to mean the same education degree, e.g., HS-grad and 9th are related to the high school graduation. Perhaps such classes could be grouped in a single class."
   ]
  },
  {
   "cell_type": "markdown",
   "id": "b2b2b9ba",
   "metadata": {},
   "source": [
    "7. Regarding the relationship between features education and income:\n",
    "\n"
   ]
  },
  {
   "cell_type": "markdown",
   "id": "5943bade",
   "metadata": {},
   "source": [
    "Only 5.14% out of 32.3% of people with HS-grad make over $50K/yr"
   ]
  },
  {
   "cell_type": "markdown",
   "id": "353681a2",
   "metadata": {},
   "source": [
    "4.26% out of 22.4% of people with some college degree make over $50K/yr"
   ]
  },
  {
   "cell_type": "markdown",
   "id": "96e8f3cc",
   "metadata": {},
   "source": [
    "6.82% out of 16.4% of people with bachelors degree make over $50k/yr"
   ]
  },
  {
   "cell_type": "markdown",
   "id": "175b2750",
   "metadata": {},
   "source": [
    "0.94% out of 1.27% of people with doctorate degree make over $50k/yr"
   ]
  },
  {
   "cell_type": "markdown",
   "id": "8c178492",
   "metadata": {},
   "source": [
    "Such relation may indicate that people with higher level education are more likely to make over  when compared to other classes, e.g., masters and doctorate degrees (see crosstab)."
   ]
  },
  {
   "cell_type": "code",
   "execution_count": null,
   "id": "4614af4a",
   "metadata": {},
   "outputs": [],
   "source": [
    "var='education'\n",
    "categorical_feature_analysis(train_data, var)\n",
    "\n",
    "##plot distribution\n",
    "ax=train_data[var].value_counts(normalize=True).plot.bar()\n",
    "ax.set_title('Data distribution of feature '+var)\n",
    "ax.set_ylabel('Percentage of people')\n",
    "ax.set_xlabel('Education')\n",
    "ax.set_xticklabels(labels=[' HS-grad', ' Some-college', ' Bachelors', ' Masters', ' Assoc-voc', ' 11th', ' Assoc-acdm', ' 10th', ' 7th-8th', ' Prof-school', ' 9th', ' 12th', ' Doctorate', ' 5th-6th', ' 1st-4th', ' Preschool'])\n",
    "plt.show()\n",
    "\n",
    "print('Percentage of people with HS-grad that makes >$50K/yr: ', len(train_data[(train_data['education']==' HS-grad') & (train_data['income']==' >50K')])/len(train_data)*100)\n",
    "print('Percentage of people with some college degree that makes >$50K/yr: ', len(train_data[(train_data['education']==' Some-college') & (train_data['income']==' >50K')])/len(train_data)*100)\n",
    "print('Percentage of people with bachelors that makes >$50K/yr: ', len(train_data[(train_data['education']==' Bachelors') & (train_data['income']==' >50K')])/len(train_data)*100)\n",
    "print('Percentage of people with doctorate degree that makes >$50K/yr: ', len(train_data[(train_data['education']==' Doctorate') & (train_data['income']==' >50K')])/len(train_data)*100)\n",
    "\n",
    "#pd.crosstab([train_data['education'], train_data['workclass']], train_data['income'], normalize='index')\n",
    "display(pd.crosstab([train_data['education']], train_data['income'], normalize='index'))\n",
    "\n",
    "pd.crosstab([train_data['education']], train_data['income'], normalize='index').plot.bar()\n",
    "plt.ylabel('Percentage of People (normalized by class)')"
   ]
  },
  {
   "cell_type": "markdown",
   "id": "f9610746",
   "metadata": {},
   "source": [
    "# Feature education-num\n"
   ]
  },
  {
   "cell_type": "markdown",
   "id": "c65bebfb",
   "metadata": {},
   "source": [
    "1. Numerical feature with 16 discrete values ranging from 1 to 16 years of education.\n",
    "\n"
   ]
  },
  {
   "cell_type": "markdown",
   "id": "650a482d",
   "metadata": {},
   "source": [
    "2. No missing or null data.\n",
    "\n"
   ]
  },
  {
   "cell_type": "markdown",
   "id": "fb33bce3",
   "metadata": {},
   "source": [
    "3. Unbalanced data values, where 32.2% (10501) of people have 9 years of education (equivalent to HS-grad of feature education), followed by 22.4% (7291) of people that have 10 years of education (equivalent to some college degree), and 16.4% (5355) of people that have 13 years of education (equivalent to bachelor's degree)."
   ]
  },
  {
   "cell_type": "markdown",
   "id": "795c1def",
   "metadata": {},
   "source": [
    "4. The considerations about this feature follows the same described in feature education. Thus, one of two features could be disregarded due to redundancy of information."
   ]
  },
  {
   "cell_type": "code",
   "execution_count": null,
   "id": "ef1cba4e",
   "metadata": {},
   "outputs": [],
   "source": [
    "var='education-num'\n",
    "continuous_feature_analysis(train_data, var)\n",
    "\n",
    "ax=train_data[var].value_counts(normalize=True).plot.bar()\n",
    "ax.set_title('Data distribution of feature '+var)\n",
    "ax.set_ylabel('Percentage of people')\n",
    "ax.set_xlabel('Years of education')\n",
    "ax.set_xticklabels(labels=[' 9', ' 10', ' 13', ' 14', ' 11', ' 7', ' 12', ' 6', ' 4', ' 15', ' 5', ' 8', ' 16', ' 3', ' 2', ' 1'])\n",
    "plt.show()\n",
    "\n",
    "sns.boxplot(y='education-num', x='income', data=train_data)\n",
    "plt.show()\n",
    "\n",
    "#pd.crosstab([train_data['education'], train_data['workclass']], train_data['income'], normalize='index')\n",
    "display(pd.crosstab([train_data['education-num']], train_data['income'], normalize='index'))\n",
    "\n",
    "pd.crosstab([train_data['education-num']], train_data['income'], normalize='index').plot.bar()\n",
    "plt.ylabel('Percentage of People (normalized by class)')"
   ]
  },
  {
   "cell_type": "markdown",
   "id": "19e5af69",
   "metadata": {},
   "source": [
    "# Feature workclass\n"
   ]
  },
  {
   "cell_type": "markdown",
   "id": "0da7e7ec",
   "metadata": {},
   "source": [
    "It defines each person's work sector.\n",
    "\n"
   ]
  },
  {
   "cell_type": "markdown",
   "id": "9770b146",
   "metadata": {},
   "source": [
    "*Categorical feature with 9 classes.\n"
   ]
  },
  {
   "cell_type": "markdown",
   "id": "4eb4d409",
   "metadata": {},
   "source": [
    "*No missing or null data. But there is a class '?', which may indicate that the work sector is unknown.\n",
    "\n"
   ]
  },
  {
   "cell_type": "markdown",
   "id": "827edceb",
   "metadata": {},
   "source": [
    "*Unbalanced data values, where 69.7% (22696) of people work in the private sector. The rest of the data is similarly distributed among the other classes, except classes Without-pay (14 entries) and Never-worked (7 entries)."
   ]
  },
  {
   "cell_type": "markdown",
   "id": "48c3b4a0",
   "metadata": {},
   "source": [
    "*Regarding the relationship between features workclass and income:\n",
    "\n"
   ]
  },
  {
   "cell_type": "markdown",
   "id": "0d9a24a5",
   "metadata": {},
   "source": [
    "* Only 15.24% out of 69.7% of people from the private sector make over $50k/yr"
   ]
  },
  {
   "cell_type": "markdown",
   "id": "6e69dd12",
   "metadata": {},
   "source": [
    "* 8.84% out of 30.3% from the other sectors make over $50k/yr"
   ]
  },
  {
   "cell_type": "markdown",
   "id": "4e7a755d",
   "metadata": {},
   "source": [
    "* Such relation may indicate that people from the other sectors (not all of them) tend to make over $50k/yr , or at least their work sectors contibute alongside the other features to this end (see crosstab)."
   ]
  },
  {
   "cell_type": "markdown",
   "id": "047eba59",
   "metadata": {},
   "source": [
    "* On the contrary, given the percentages, people from the private sector tend to make less or equal to $50k/yr. We note that other features may support people from this work sector to make over $50k/yr."
   ]
  },
  {
   "cell_type": "code",
   "execution_count": null,
   "id": "74d05d7e",
   "metadata": {},
   "outputs": [],
   "source": [
    "var='workclass'\n",
    "categorical_feature_analysis(train_data, var)\n",
    "\n",
    "##plot distribution\n",
    "ax=train_data[var].value_counts(normalize=True).plot.bar()\n",
    "ax.set_title('Data distribution of feature '+var)\n",
    "ax.set_ylabel('Percentage of people')\n",
    "ax.set_xlabel('Workclass')\n",
    "ax.set_xticklabels(labels=[' Private', ' Self-emp-not-inc', ' Local-gov', ' ?', ' State-gov', ' Self-emp-inc', ' Federal-gov', ' Without-pay', ' Never-worked'])\n",
    "plt.show()\n",
    "\n",
    "print('Percentage of people from the private sector that makes >$50K/yr: ', len(train_data[(train_data['workclass']==' Private') & (train_data['income']==' >50K')])/len(train_data)*100)\n",
    "print('Percentage of people from the private sector that makes <=$50K/yr: ', len(train_data[(train_data['workclass']==' Private') & (train_data['income']==' <=50K')])/len(train_data)*100)\n",
    "print('Percentage of people from the other sectors that makes >$50K/yr: ', len(train_data[(train_data['workclass']!=' Private') & (train_data['income']==' >50K')])/len(train_data)*100)\n",
    "print('Percentage of people from the other sectors that makes <=$50K/yr: ', len(train_data[(train_data['workclass']!=' Private') & (train_data['income']==' <=50K')])/len(train_data)*100)\n",
    "\n",
    "display(pd.crosstab([train_data['workclass']], train_data['income'], normalize='index'))\n",
    "\n",
    "pd.crosstab([train_data['workclass']], train_data['income'], normalize='index').plot.bar()\n",
    "plt.ylabel('Percentage of People (normalized by class)')"
   ]
  },
  {
   "cell_type": "markdown",
   "id": "d5b597a7",
   "metadata": {},
   "source": [
    "# Feature occupation\n"
   ]
  },
  {
   "cell_type": "markdown",
   "id": "107c4b4d",
   "metadata": {},
   "source": [
    "* Categorical feature with 15 distinct categories of occupation.\n",
    "\n"
   ]
  },
  {
   "cell_type": "markdown",
   "id": "0550314b",
   "metadata": {},
   "source": [
    "* No missing or null data. But there is a class '?', which may indicate that the occupation is unknown.\n",
    "\n"
   ]
  },
  {
   "cell_type": "markdown",
   "id": "83aa2e78",
   "metadata": {},
   "source": [
    "* Balanced data values for the most populated classes, where the classes Prof-specialty, Craft-repair, Exec-managerial, Adm-clerical, Sales and Other-service include 12.7% (4140), 12.6% (4099), 12.5% (4066), 11.6% (3770), 11.2% (3650) and 10.1%(3295) of people, respectively."
   ]
  },
  {
   "cell_type": "markdown",
   "id": "8f8032d8",
   "metadata": {},
   "source": [
    "* These 6 classes encompass 70.7% of the data."
   ]
  },
  {
   "cell_type": "markdown",
   "id": "4e817310",
   "metadata": {},
   "source": [
    "* It's noted that people with professional specialty occupation are more likely to make over $50k/yr when compared to other categories (see crosstab)."
   ]
  },
  {
   "cell_type": "markdown",
   "id": "bbb711dd",
   "metadata": {},
   "source": [
    "* We note that features education, workclass and occupation are possibly related, e.g., higher education may imply in more specialized positions, and together could help with the income prediction."
   ]
  },
  {
   "cell_type": "code",
   "execution_count": null,
   "id": "36a40ef6",
   "metadata": {},
   "outputs": [],
   "source": [
    "var='occupation'\n",
    "categorical_feature_analysis(train_data, var)\n",
    "\n",
    "##plot distribution\n",
    "ax=train_data[var].value_counts(normalize=True).plot.bar()\n",
    "ax.set_title('Data distribution of feature '+var)\n",
    "ax.set_ylabel('Percentage of people')\n",
    "ax.set_xlabel('Occupation')\n",
    "ax.set_xticklabels(labels=[' Prof-specialty', ' Craft-repair', ' Exec-managerial', ' Adm-clerical', ' Sales', ' Other-service', ' Machine-op-inspct', ' ?', ' Transport-moving', ' Handlers-cleaners', \n",
    "                           ' Farming-fishing', ' Tech-support', ' Protective-serv', ' Priv-house-serv', ' Armed-Forces'])\n",
    "plt.show()\n",
    "\n",
    "display(pd.crosstab([train_data['occupation']], train_data['income'], normalize='index'))\n",
    "\n",
    "pd.crosstab([train_data['occupation']], train_data['income'], normalize='index').plot.bar()\n",
    "plt.ylabel('Percentage of People (normalized by class)')"
   ]
  },
  {
   "cell_type": "markdown",
   "id": "e3a5815b",
   "metadata": {},
   "source": [
    "# Feature marital-status\n"
   ]
  },
  {
   "cell_type": "markdown",
   "id": "e204c045",
   "metadata": {},
   "source": [
    "* Categorical feature with 7 distinct categories of marital status.\n",
    "\n"
   ]
  },
  {
   "cell_type": "markdown",
   "id": "8bc0ab48",
   "metadata": {},
   "source": [
    "* No missing or null data.\n",
    "\n"
   ]
  },
  {
   "cell_type": "markdown",
   "id": "348360be",
   "metadata": {},
   "source": [
    "* Unbalanced data values, where 45.99% (14976) of people have civilian spouse (Married-civ-spouse), followed by 32.8% (10683) of people that have never been married, and 13.6% (4443) of people that are divorced.\n",
    "\n"
   ]
  },
  {
   "cell_type": "markdown",
   "id": "d6184dcd",
   "metadata": {},
   "source": [
    "* These 3 classes together represent 92.39% of the data.\n",
    "\n"
   ]
  },
  {
   "cell_type": "markdown",
   "id": "6cf92171",
   "metadata": {},
   "source": [
    "* We note that people with civilian spouse (Married-civ-spouse) or with spouse in the Armed Forces (Married-AF-spouse) are more likely to make over  when compared to other categories (see crosstab)."
   ]
  },
  {
   "cell_type": "code",
   "execution_count": null,
   "id": "95cfb5b8",
   "metadata": {},
   "outputs": [],
   "source": [
    "var='marital-status'\n",
    "categorical_feature_analysis(train_data, var)\n",
    "\n",
    "##plot distribution\n",
    "ax=train_data[var].value_counts(normalize=True).plot.bar()\n",
    "ax.set_title('Data distribution of feature '+var)\n",
    "ax.set_ylabel('Percentage of people')\n",
    "ax.set_xlabel('Marital status')\n",
    "ax.set_xticklabels(labels=[' Married-civ-spouse', ' Never-married', ' Divorced', ' Separated', ' Widowed', ' Married-spouse-absent', ' Married-AF-spouse'])\n",
    "plt.show()\n",
    "\n",
    "display(pd.crosstab([train_data['marital-status']], train_data['income'], normalize='index'))\n",
    "\n",
    "pd.crosstab([train_data['marital-status']], train_data['income'], normalize='index').plot.bar()\n",
    "plt.ylabel('Percentage of People (normalized by class)')"
   ]
  },
  {
   "cell_type": "markdown",
   "id": "94136c5c",
   "metadata": {},
   "source": [
    "# Feature relationship\n"
   ]
  },
  {
   "cell_type": "markdown",
   "id": "03d83330",
   "metadata": {},
   "source": [
    "* Categorical feature with 6 distinct classes of relationship.\n",
    "\n"
   ]
  },
  {
   "cell_type": "markdown",
   "id": "513d12f9",
   "metadata": {},
   "source": [
    "* No missing or null data.\n",
    "\n"
   ]
  },
  {
   "cell_type": "markdown",
   "id": "e12e7268",
   "metadata": {},
   "source": [
    "* Unbalanced data values, where 40.5% (13193) of people are the husbands, while only 4.8% (1568) are the wives.\n",
    "\n"
   ]
  },
  {
   "cell_type": "markdown",
   "id": "1724ef5d",
   "metadata": {},
   "source": [
    "However, we note that people which are husbands or wives are more likely to make over $50k/yr when compared to other categories (see crosstab)."
   ]
  },
  {
   "cell_type": "markdown",
   "id": "001b242b",
   "metadata": {},
   "source": [
    "This corroborates the previous analysis on the feature marital-status, where people with civilian spouse (Married-civ-spouse) or with spouse in the Armed Forces (Married-AF-spouse) are more likely to make over $50k/yr when compared to other categories."
   ]
  },
  {
   "cell_type": "code",
   "execution_count": null,
   "id": "87afa5eb",
   "metadata": {},
   "outputs": [],
   "source": [
    "var='relationship'\n",
    "categorical_feature_analysis(train_data, var)\n",
    "\n",
    "##plot distribution\n",
    "ax=train_data[var].value_counts(normalize=True).plot.bar()\n",
    "ax.set_title('Data distribution of feature '+var)\n",
    "ax.set_ylabel('Percentage of people')\n",
    "ax.set_xlabel('Relationship')\n",
    "ax.set_xticklabels(labels=[' Husband', ' Not-in-family', ' Own-child', ' Unmarried', ' Wife', ' Other-relative'])\n",
    "plt.show()\n",
    "\n",
    "display(pd.crosstab([train_data['relationship']], train_data['income'], normalize='index'))\n",
    "\n",
    "pd.crosstab([train_data['relationship']], train_data['income'], normalize='index').plot.bar()\n",
    "plt.ylabel('Percentage of People (normalized by class)')"
   ]
  },
  {
   "cell_type": "markdown",
   "id": "4225188e",
   "metadata": {},
   "source": [
    "# Feature race\n"
   ]
  },
  {
   "cell_type": "markdown",
   "id": "48a9f0fc",
   "metadata": {},
   "source": [
    "* Categorical feature with 5 categories of race.\n",
    "\n"
   ]
  },
  {
   "cell_type": "markdown",
   "id": "49ae3639",
   "metadata": {},
   "source": [
    "* No missing or null data.\n",
    "\n"
   ]
  },
  {
   "cell_type": "markdown",
   "id": "99f5c958",
   "metadata": {},
   "source": [
    "* Very unbalanced data values, where 85.4% (27816) of people are white, followed by 9.6% (3124) of black people.\n",
    "\n"
   ]
  },
  {
   "cell_type": "markdown",
   "id": "52095a96",
   "metadata": {},
   "source": [
    "Considering the large number of white people compared to other races, it's not possible to note a clear trend that these people are more likely to make over $50k/yr"
   ]
  },
  {
   "cell_type": "code",
   "execution_count": null,
   "id": "005597a3",
   "metadata": {},
   "outputs": [],
   "source": [
    "var='race'\n",
    "categorical_feature_analysis(train_data, var)\n",
    "\n",
    "##plot distribution\n",
    "ax=train_data[var].value_counts(normalize=True).plot.bar()\n",
    "ax.set_title('Data distribution of feature '+var)\n",
    "ax.set_ylabel('Percentage of people')\n",
    "ax.set_xlabel('Race')\n",
    "ax.set_xticklabels(labels=[' White', ' Black', ' Asian-Pac-Islander', ' Amer-Indian-Eskimo', ' Other'])\n",
    "plt.show()\n",
    "\n",
    "display(pd.crosstab([train_data['race']], train_data['income'], normalize='index'))\n",
    "\n",
    "pd.crosstab([train_data['race']], train_data['income'], normalize='index').plot.bar()\n",
    "plt.ylabel('Percentage of People (normalized by class)')"
   ]
  },
  {
   "cell_type": "markdown",
   "id": "5a38b257",
   "metadata": {},
   "source": [
    "# Feature sex\n"
   ]
  },
  {
   "cell_type": "markdown",
   "id": "44063688",
   "metadata": {},
   "source": [
    "* Categorical feature with 2 distinct classes.\n",
    "\n"
   ]
  },
  {
   "cell_type": "markdown",
   "id": "5d9f6398",
   "metadata": {},
   "source": [
    "* No missing or null data.\n",
    "\n"
   ]
  },
  {
   "cell_type": "markdown",
   "id": "6255f6be",
   "metadata": {},
   "source": [
    "* Unbalanced data values, where 66.9% (21790) of people are male and 33.1% (10771) of people are female.\n",
    "\n"
   ]
  },
  {
   "cell_type": "markdown",
   "id": "8f95bc6a",
   "metadata": {},
   "source": [
    "* Besides the higher number of male compared to female, we observe that male are more likely to make over $50k/yr (see crosstab)."
   ]
  },
  {
   "cell_type": "code",
   "execution_count": null,
   "id": "a0317365",
   "metadata": {},
   "outputs": [],
   "source": [
    "var='sex'\n",
    "categorical_feature_analysis(train_data, var)\n",
    "\n",
    "##plot distribution\n",
    "ax=train_data[var].value_counts(normalize=True).plot.bar()\n",
    "ax.set_title('Data distribution of feature '+var)\n",
    "ax.set_ylabel('Percentage of people')\n",
    "ax.set_xlabel('Sex')\n",
    "ax.set_xticklabels(labels=[' Male', ' Female'])\n",
    "plt.show()\n",
    "\n",
    "display(pd.crosstab([train_data['sex']], train_data['income'], normalize='index'))\n",
    "\n",
    "pd.crosstab([train_data['sex']], train_data['income'], normalize='index').plot.bar()\n",
    "plt.ylabel('Percentage of People (normalized by class)')"
   ]
  },
  {
   "cell_type": "markdown",
   "id": "fa1e718c",
   "metadata": {},
   "source": [
    "# Feature capital-gain\n"
   ]
  },
  {
   "cell_type": "markdown",
   "id": "35b89a9f",
   "metadata": {},
   "source": [
    "Capital gain refers to an increase in a capital asset's value and is considered to be realized when the asset is sold.\n",
    "\n"
   ]
  },
  {
   "cell_type": "markdown",
   "id": "be02ff97",
   "metadata": {},
   "source": [
    "Distribution of data values:\\ **count**: 32561\\ **null:** 0\\ **mean:** $1077.65\\ **std:** $7385.29\\ **min**: $0\\ **25%:** $0\\ **50%**: $0\\ **75%:** $0\\ **max:** $99999\n",
    "\n"
   ]
  },
  {
   "cell_type": "markdown",
   "id": "87397203",
   "metadata": {},
   "source": [
    "* Numerical feature with outliers.\n",
    "\n"
   ]
  },
  {
   "cell_type": "markdown",
   "id": "bb57e053",
   "metadata": {},
   "source": [
    "* No missing or null data.\n",
    "\n"
   ]
  },
  {
   "cell_type": "markdown",
   "id": "a9b0da3f",
   "metadata": {},
   "source": [
    "* Regarding the relationship between capital gain and annual income, we note that the boxplots for both classes of the target feature regarding the data distribution of capital-gain did not show notable differences."
   ]
  },
  {
   "cell_type": "markdown",
   "id": "664c14b1",
   "metadata": {},
   "source": [
    "* Balanced data distribuiton, with greater concentration of people with no capital gain.\n",
    "\n"
   ]
  },
  {
   "cell_type": "markdown",
   "id": "d6fa77ae",
   "metadata": {},
   "source": [
    "* At least 75% of people had no capital gain.\n",
    "\n"
   ]
  },
  {
   "cell_type": "markdown",
   "id": "7da7ec5d",
   "metadata": {},
   "source": [
    "* Both boxplots present outliers regarding this feature.\n",
    "\n"
   ]
  },
  {
   "cell_type": "code",
   "execution_count": null,
   "id": "1a1d5d8c",
   "metadata": {},
   "outputs": [],
   "source": [
    "\n",
    "var='capital-gain'\n",
    "continuous_feature_analysis(train_data, var)\n",
    "\n",
    "ax=train_data[var].hist(bins=50)\n",
    "ax.set_title('Data distribution of feature '+var)\n",
    "ax.set_ylabel('Number of People')\n",
    "ax.set_xlabel('Capital gain')\n",
    "plt.show()\n",
    "\n",
    "sns.boxplot(y='capital-gain', x='income', data=train_data)\n",
    "plt.show()"
   ]
  },
  {
   "cell_type": "markdown",
   "id": "23a9d3ab",
   "metadata": {},
   "source": [
    "# Feature capital-loss\n"
   ]
  },
  {
   "cell_type": "markdown",
   "id": "92a21070",
   "metadata": {},
   "source": [
    "Capital loss is the loss incurred when a capital asset decreases in value and is considered to be realized when the asset is sold.\n",
    "\n"
   ]
  },
  {
   "cell_type": "markdown",
   "id": "2c508396",
   "metadata": {},
   "source": [
    "Distribution of data values:\\ **count:** 32561\\ **null:** 0\\ **mean:** $87.30\\ **std:** $402.96\\ **min:** $0\\ **25%:** $0\\ **50%:** $0\\ **75%:** $0\\ **max:** $4356\n",
    "\n"
   ]
  },
  {
   "cell_type": "markdown",
   "id": "01121855",
   "metadata": {},
   "source": [
    "* Numerical feature with outliers.\n",
    "\n"
   ]
  },
  {
   "cell_type": "markdown",
   "id": "71e6477f",
   "metadata": {},
   "source": [
    "* No missing or null data.\n",
    "\n"
   ]
  },
  {
   "cell_type": "markdown",
   "id": "55da1814",
   "metadata": {},
   "source": [
    "* The considerations about this feature follows the previous one.\n",
    "\n"
   ]
  },
  {
   "cell_type": "code",
   "execution_count": null,
   "id": "82bde02f",
   "metadata": {},
   "outputs": [],
   "source": [
    "var='capital-loss'\n",
    "continuous_feature_analysis(train_data, var)\n",
    "\n",
    "ax=train_data[var].hist(bins=50)\n",
    "ax.set_title('Data distribution of feature '+var)\n",
    "ax.set_ylabel('Number of People')\n",
    "ax.set_xlabel('Capital loss')\n",
    "plt.show()\n",
    "\n",
    "sns.boxplot(y='capital-loss', x='income', data=train_data)\n",
    "plt.show()"
   ]
  },
  {
   "cell_type": "markdown",
   "id": "218b56b4",
   "metadata": {},
   "source": [
    "# Feature hours-per-week\n"
   ]
  },
  {
   "cell_type": "markdown",
   "id": "6b58b9a0",
   "metadata": {},
   "source": [
    "Working hours per week.\n",
    "\n"
   ]
  },
  {
   "cell_type": "markdown",
   "id": "16a510c6",
   "metadata": {},
   "source": [
    "Distribution of data values:\\ **count:** 32561\\ **null:** 0\\ **mean:** 40.44 hours\\ **std:** 12.35 hours\\ **min:** 1 hour\\ **25%:** 40 hours\\ **50%:** 40 hours\\ **75%:** 45 hours\\ **max:** 99 hours\n",
    "\n"
   ]
  },
  {
   "cell_type": "markdown",
   "id": "066ebf58",
   "metadata": {},
   "source": [
    "* Numerical feature with outliers.\n",
    "\n"
   ]
  },
  {
   "cell_type": "markdown",
   "id": "834620ee",
   "metadata": {},
   "source": [
    "* No missing or null data.\n",
    "\n"
   ]
  },
  {
   "cell_type": "markdown",
   "id": "67696a1f",
   "metadata": {},
   "source": [
    "* Unbalanced data distribuiton, with greater concentration of people working between 40 and 45 hours per week.\n",
    "\n"
   ]
  },
  {
   "cell_type": "markdown",
   "id": "1e5b2b59",
   "metadata": {},
   "source": [
    "* The feature hours-per-week presents an average of 40.44 hours and median of 40 hours.\n",
    "\n"
   ]
  },
  {
   "cell_type": "markdown",
   "id": "b71073c5",
   "metadata": {},
   "source": [
    "* Regarding the relationship between working hours per week and annual income, we note that people who work more hours per week tend to make over $50K a year."
   ]
  },
  {
   "cell_type": "markdown",
   "id": "9339644d",
   "metadata": {},
   "source": [
    "* However, there are cases of people who work more hours per week and make less or equal to $50K a year, and vice versa."
   ]
  },
  {
   "cell_type": "markdown",
   "id": "1bf84703",
   "metadata": {},
   "source": [
    "* We observe that there are outliers in both classes of the target feature regarding the working hours per week, such as 100 hours worked per week.\n",
    "\n"
   ]
  },
  {
   "cell_type": "code",
   "execution_count": null,
   "id": "b74a2603",
   "metadata": {},
   "outputs": [],
   "source": [
    "var='hours-per-week'\n",
    "continuous_feature_analysis(train_data, var)\n",
    "\n",
    "ax=train_data[var].hist(bins=50)\n",
    "ax.set_title('Data distribution of feature '+var)\n",
    "ax.set_ylabel('Number of People')\n",
    "ax.set_xlabel('Hours per week')\n",
    "plt.show()\n",
    "\n",
    "sns.boxplot(y='hours-per-week', x='income', data=train_data)\n",
    "plt.show()\n",
    "\n",
    "print('Percentage of people that work less than 40 hours per week and makes >$50K/yr: ', len(train_data[(train_data['hours-per-week']<40) & (train_data['income']==' >50K')])/len(train_data)*100)\n",
    "print('Percentage of people that work less than 40 hours per week and makes <=$50K/yr: ', len(train_data[(train_data['hours-per-week']<40) & (train_data['income']==' <=50K')])/len(train_data)*100)\n",
    "print('Percentage of people that work between 40 and 45 hours per week and makes >$50K/yr: ', len(train_data[((train_data['hours-per-week'] >= 40) & (train_data['hours-per-week'] <= 45)) & (train_data['income']==' >50K')])/len(train_data)*100)\n",
    "print('Percentage of people that work between 40 and 45 hours per week and makes <=$50K/yr: ', len(train_data[((train_data['hours-per-week'] >= 40) & (train_data['hours-per-week'] <= 45)) & (train_data['income']==' <=50K')])/len(train_data)*100)\n",
    "print('Percentage of people that work more than 45 hours per week and makes >$50K/yr: ', len(train_data[(train_data['hours-per-week'] > 45) & (train_data['income']==' >50K')])/len(train_data)*100)\n",
    "print('Percentage of people that work more than 45 hours per week and makes <=$50K/yr: ', len(train_data[(train_data['hours-per-week'] > 45) & (train_data['income']==' <=50K')])/len(train_data)*100)\n"
   ]
  },
  {
   "cell_type": "markdown",
   "id": "8dfe9c91",
   "metadata": {},
   "source": [
    "# Feature native-country\n"
   ]
  },
  {
   "cell_type": "markdown",
   "id": "5296add4",
   "metadata": {},
   "source": [
    "* Categorical target feature with 42 distinct countries.\n",
    "\n"
   ]
  },
  {
   "cell_type": "markdown",
   "id": "db797df4",
   "metadata": {},
   "source": [
    "* No missing or null data. But there is a class '?', which may indicate that the native country is unknown.\n",
    "\n"
   ]
  },
  {
   "cell_type": "markdown",
   "id": "23bd7cf8",
   "metadata": {},
   "source": [
    "* Very unbalanced data values, where 89.6% (29170) of people were born in the United States.\n",
    "\n"
   ]
  },
  {
   "cell_type": "markdown",
   "id": "c7922265",
   "metadata": {},
   "source": [
    "* Considering the large number of people that were born in the United States compared to other countries, it's not possible to note a clear trend that these people are more likely to make over $50k/yr"
   ]
  },
  {
   "cell_type": "code",
   "execution_count": null,
   "id": "a835c8fc",
   "metadata": {},
   "outputs": [],
   "source": [
    "var='native-country'\n",
    "categorical_feature_analysis(train_data, var)\n",
    "\n",
    "##plot distribution\n",
    "ax=train_data[var].value_counts(normalize=True).plot.bar()\n",
    "ax.set_title('Data distribution of feature '+var)\n",
    "ax.set_ylabel('Percentage of people')\n",
    "ax.set_xlabel('Native country')\n",
    "ax.set_xticklabels(labels=[' United-States', ' Mexico', ' ?'])\n",
    "plt.show()\n",
    "\n",
    "pd.crosstab([train_data['native-country']], train_data['income'], normalize='index')"
   ]
  },
  {
   "cell_type": "markdown",
   "id": "e3c75eb7",
   "metadata": {},
   "source": [
    "# Relation between features\n"
   ]
  },
  {
   "cell_type": "markdown",
   "id": "71159308",
   "metadata": {},
   "source": [
    "**Relation between features sex, race, income and numerical ones:**\n",
    "\n"
   ]
  },
  {
   "cell_type": "markdown",
   "id": "828e95e6",
   "metadata": {},
   "source": [
    "* On average, it's possible to note that regardless sex and race, people who are older, have a higher education level, had greater capital gains and work more hours per week tend to make over $50k/yr when compared to others."
   ]
  },
  {
   "cell_type": "markdown",
   "id": "19c4f15a",
   "metadata": {},
   "source": [
    "* This corroborates our previous analysis.\n",
    "\n"
   ]
  },
  {
   "cell_type": "code",
   "execution_count": null,
   "id": "05c5f0d2",
   "metadata": {},
   "outputs": [],
   "source": [
    "display(train_data.groupby(['sex', 'race', 'income']).mean())\n"
   ]
  },
  {
   "cell_type": "markdown",
   "id": "d28598ce",
   "metadata": {},
   "source": [
    "**Relation between features workclass, occupation, income and numerical ones:**\n",
    "\n"
   ]
  },
  {
   "cell_type": "markdown",
   "id": "13d80b2a",
   "metadata": {},
   "source": [
    "* On average, it's possible to note the same behavior of the other features analayzed above.\n",
    "\n"
   ]
  },
  {
   "cell_type": "markdown",
   "id": "33b00ea1",
   "metadata": {},
   "source": [
    "* In general, people who are older, have a higher education level, had greater capital gains and work more hours per week tend to make over  when compared to others."
   ]
  },
  {
   "cell_type": "code",
   "execution_count": null,
   "id": "69e1fbd3",
   "metadata": {},
   "outputs": [],
   "source": [
    "display(train_data.groupby(['workclass', 'income']).mean())\n"
   ]
  },
  {
   "cell_type": "markdown",
   "id": "76ccd98a",
   "metadata": {},
   "source": [
    "# Feature engineering\n"
   ]
  },
  {
   "cell_type": "markdown",
   "id": "fbff397e",
   "metadata": {},
   "source": [
    "**Categorical features**\n"
   ]
  },
  {
   "cell_type": "markdown",
   "id": "9c02f9ab",
   "metadata": {},
   "source": [
    "Performed operations:\n",
    "\n"
   ]
  },
  {
   "cell_type": "markdown",
   "id": "a51625d1",
   "metadata": {},
   "source": [
    "1. Transformation of categorical features with 2 classes to binary features: income and sex.\n",
    "\n"
   ]
  },
  {
   "cell_type": "markdown",
   "id": "c3d5fc4c",
   "metadata": {},
   "source": [
    "2. From feature workclass: Creation of feature workclass_simple from the combination of 2 similar classes (Without-pay and Never-worked) with few data in a single one. The other classes remain the same. Other possible solution is to group the gov sectors in a single class."
   ]
  },
  {
   "cell_type": "markdown",
   "id": "cc6010f5",
   "metadata": {},
   "source": [
    "3. From feature occupation: Creation of feature occupation_simple from the combination of 2 similar classes ('?' and Other-service) added to the class Armed-Forces with few data. The other classes remain the same."
   ]
  },
  {
   "cell_type": "markdown",
   "id": "2197a152",
   "metadata": {},
   "source": [
    "4. From feature marital-status: Creation of feature marital-status_simple from the combination of 2 similar classes (Married-civ-spouse and Married-AF-spouse) in a single one, class Never-married, and the abstraction of all other similar classes in only one class (No-spouse)."
   ]
  },
  {
   "cell_type": "markdown",
   "id": "56f368a4",
   "metadata": {},
   "source": [
    "5.From feature relationship: Creation of feature relationship_simple from the combination of 2 similar classes (Husband and Wife) in a single one. The other classes remain the same."
   ]
  },
  {
   "cell_type": "markdown",
   "id": "6e76bdc0",
   "metadata": {},
   "source": [
    "6. From feature relationship: Creation of feature relationship_simple from the combination of 2 similar classes (Husband and Wife) in a single one. The other classes remain the same."
   ]
  },
  {
   "cell_type": "markdown",
   "id": "998cbe57",
   "metadata": {},
   "source": [
    "7. From feature native-country: Creation of feature native-country_simple from the abstraction of countries on continents. Creation of 5 classes: the class United-States which remains the same due to the large number of data, America, Europe, Asia and '?'. Other possible solution is to group all countries distinct from the US in a single class."
   ]
  },
  {
   "cell_type": "markdown",
   "id": "dc09849b",
   "metadata": {},
   "source": [
    "8.Transformation of categorical features to numerical features through one-hot-encoding strategy."
   ]
  },
  {
   "cell_type": "markdown",
   "id": "4ca113ad",
   "metadata": {},
   "source": [
    "* We note that these feature operations (creation, transformation and abstraction of features and classes) are performed in an attempt to support the ML models on the learning phase"
   ]
  },
  {
   "cell_type": "code",
   "execution_count": null,
   "id": "67a0378e",
   "metadata": {},
   "outputs": [],
   "source": [
    "##categorical features\n",
    "train_data=pd.get_dummies(train_data, columns=['income', 'sex'], drop_first=True) #binary transformation\n",
    "test_data=pd.get_dummies(test_data, columns=['income', 'sex'], drop_first=True) #binary transformation\n",
    "\n",
    "def group_workclass(val):\n",
    "  #combination of similar classes with few data\n",
    "  if val==' Without-pay' or val==' Never-worked':            \n",
    "    return ' WO_pay'\n",
    "  else:\n",
    "    return val\n",
    "\n",
    "def group_occupation(val):\n",
    "  #combination of similar classes and with few data\n",
    "  if val==' Armed-Forces' or val==' ?' or val==' Other-service':       \n",
    "    return ' Other-service'\n",
    "  else:\n",
    "    return val\n",
    "\n",
    "def group_marital_status(val):\n",
    "  #combination of similar classes\n",
    "  if val==' Married-civ-spouse' or val==' Married-AF-spouse':       \n",
    "    return ' Married'\n",
    "  elif val==' Never-married':\n",
    "    return val\n",
    "  else:\n",
    "    return ' No-spouse'\n",
    "\n",
    "def group_relationship(val):\n",
    "  #combination of similar classes\n",
    "  if val==' Husband' or val==' Wife':       \n",
    "    return ' Spouse'\n",
    "  else:\n",
    "    return val\n",
    "\n",
    "def group_race(val):\n",
    "  #combination of classes with few data\n",
    "  if val==' White':       \n",
    "    return val\n",
    "  else:\n",
    "        return ' Other'\n",
    "\n",
    "def group_native_country(val):\n",
    "  #abstraction of classes\n",
    "  if val==' United-States':       \n",
    "    return val\n",
    "  elif val in [' Mexico', ' Cuba', ' Jamaica', ' Puerto-Rico', ' Honduras', ' Columbia', ' Ecuador', ' Guatemala', ' Peru', ' Outlying-US(Guam-USVI-etc)', ' Nicaragua', ' Haiti', \n",
    "               ' Dominican-Republic', ' El-Salvador', ' Trinadad&Tobago', ' South']:\n",
    "    return ' America'\n",
    "  elif val in [' England', ' Canada', ' Germany', ' Italy', ' Poland',  ' Portugal', ' France', ' Greece',  ' Ireland', ' Hungary', ' Yugoslavia', ' Holand-Netherlands', \n",
    "               ' Scotland']:\n",
    "    return ' Europe'\n",
    "  elif val in [' India', ' Philippines', ' Iran', ' Cambodia', ' Thailand', ' Laos', ' Taiwan', ' China', ' Japan', ' Vietnam', ' Hong']:\n",
    "    return ' Asia'\n",
    "  else:\n",
    "    return ' ?'\n",
    "\n",
    "##creation of new features from the combination and abstraction of existing classes\n",
    "train_data['workclass_simple']=train_data['workclass'].map(group_workclass)\n",
    "train_data['occupation_simple']=train_data['occupation'].map(group_occupation)\n",
    "train_data['marital-status_simple']=train_data['marital-status'].map(group_marital_status)\n",
    "train_data['relationship_simple']=train_data['relationship'].map(group_relationship)\n",
    "train_data['race_simple']=train_data['race'].map(group_race)\n",
    "train_data['native-country_simple']=train_data['native-country'].map(group_native_country)\n",
    "\n",
    "train_data=pd.get_dummies(train_data, columns=['workclass_simple', 'occupation_simple', 'marital-status_simple', 'relationship_simple', 'race_simple', 'native-country_simple'], drop_first=True)\n",
    "\n",
    "##test dataset\n",
    "test_data['workclass_simple']=test_data['workclass'].map(group_workclass)\n",
    "test_data['occupation_simple']=test_data['occupation'].map(group_occupation)\n",
    "test_data['marital-status_simple']=test_data['marital-status'].map(group_marital_status)\n",
    "test_data['relationship_simple']=test_data['relationship'].map(group_relationship)\n",
    "test_data['race_simple']=test_data['race'].map(group_race)\n",
    "test_data['native-country_simple']=test_data['native-country'].map(group_native_country)\n",
    "\n",
    "test_data=pd.get_dummies(test_data, columns=['workclass_simple', 'occupation_simple', 'marital-status_simple', 'relationship_simple', 'race_simple', 'native-country_simple'], drop_first=True)\n"
   ]
  },
  {
   "cell_type": "markdown",
   "id": "86e2d5d1",
   "metadata": {},
   "source": [
    "# Numerical features\n"
   ]
  },
  {
   "cell_type": "markdown",
   "id": "28b94098",
   "metadata": {},
   "source": [
    "**Performed operations:**\n",
    "\n"
   ]
  },
  {
   "cell_type": "markdown",
   "id": "8f731803",
   "metadata": {},
   "source": [
    "1. From features capital-gain and capital-loss: Creation of a binary feature has_assets that indicates if a person has any type of asset based on its capital gain or loss.\n",
    "\n"
   ]
  },
  {
   "cell_type": "markdown",
   "id": "2b467a38",
   "metadata": {},
   "source": [
    "2. Adaptive binning based on the quartiles of features age and hours-per-week. Binning is used to categorize (smooth) continuous values. Two new features were created."
   ]
  },
  {
   "cell_type": "markdown",
   "id": "d9420a0f",
   "metadata": {},
   "source": [
    "3. Standardization of numerical features age, fnlwgt, education-num, capital-gain, capital-loss and hours-per-week.\n",
    "\n"
   ]
  },
  {
   "cell_type": "code",
   "execution_count": null,
   "id": "eef50077",
   "metadata": {},
   "outputs": [],
   "source": [
    "##numerical features\n",
    "#train_data=train_data[(np.abs(stats.zscore(train_data['age'])) < 3)]] #removal of outliers\n",
    "\n",
    "##binary feature for assets\n",
    "train_data['has_asset']=(train_data['capital-gain'] > 0) | (train_data['capital-loss'] > 0)\n",
    "train_data['has_asset']=train_data['has_asset'].astype(int)\n",
    "#display(train_data['has_asset'])\n",
    "\n",
    "test_data['has_asset']=(test_data['capital-gain'] > 0) | (test_data['capital-loss'] > 0)\n",
    "test_data['has_asset']=test_data['has_asset'].astype(int)\n",
    "\n",
    "##binning of feature age based on quartiles\n",
    "quantile_list=[0, .25, .5, .75, 1.]\n",
    "quantiles=train_data['age'].quantile(quantile_list)\n",
    "train_data['age_quantile_binning']=pd.qcut(train_data['age'], q=quantile_list, labels=[1, 2, 3, 4]).astype(int)\n",
    "#display(train_data['age_quantile_binning'])\n",
    "pd.crosstab([train_data['age_quantile_binning']], train_data['income_ >50K'], normalize='index').plot.bar()\n",
    "plt.ylabel('Percentage of People (normalized by class)')\n",
    "plt.show()\n",
    "\n",
    "test_data['age_quantile_binning']=pd.qcut(test_data['age'], q=quantile_list, labels=[1, 2, 3, 4]).astype(int) #binning test dataset based on the train dataset\n",
    "\n",
    "##binning of feature hour-per-week based on quantiles\n",
    "quantile_list=[0, .25, .5, .75, 1.]\n",
    "quantiles=train_data['hours-per-week'].quantile(quantile_list)\n",
    "train_data['hours-per-week_quantile_binning']=pd.qcut(train_data['hours-per-week'], q=quantile_list, labels=[1, 2, 3], duplicates='drop').astype(int) #2 quartiles are the same\n",
    "#display(train_data['hours-per-week_quantile_binning'])\n",
    "pd.crosstab([train_data['hours-per-week_quantile_binning']], train_data['income_ >50K'], normalize='index').plot.bar()\n",
    "plt.ylabel('Percentage of People (normalized by class)')\n",
    "plt.show()\n",
    "\n",
    "test_data['hours-per-week_quantile_binning']=pd.qcut(test_data['hours-per-week'], q=quantile_list, labels=[1, 2, 3], duplicates='drop').astype(int) #binning test dataset based on train dataset\n",
    "\n",
    "norm_features=['age', 'fnlwgt', 'education-num', 'capital-gain', 'capital-loss', 'hours-per-week']\n",
    "#train_data=std_features_all(train_data, norm_features)\n",
    "train_data, test_data=std_features(train_data, test_data, norm_features) #std scalar train and test data (based on train data)\n",
    "\n",
    "#train_data.describe()\n",
    "#test_data.describe()"
   ]
  },
  {
   "cell_type": "markdown",
   "id": "6691add0",
   "metadata": {},
   "source": [
    "# Correlation between features\n"
   ]
  },
  {
   "cell_type": "markdown",
   "id": "28dff05f",
   "metadata": {},
   "source": [
    "* We note that any feature presents correlation from moderate to high (abs(corr) > 0.5) regarding the target feature.\n",
    "\n"
   ]
  },
  {
   "cell_type": "markdown",
   "id": "b9242517",
   "metadata": {},
   "source": [
    "* However, considering scenarios of correlation from moderate to high (0.5 < abs(corr) <= 1.0), the following features have some correlation:\n",
    "\n"
   ]
  },
  {
   "cell_type": "markdown",
   "id": "5e9d0d74",
   "metadata": {},
   "source": [
    "* 'age', 'age_quantile_binning': 0.94\n",
    "* 'age', 'marital-statussimple Never-married': -0.54\n",
    "* 'capital-loss', 'has_asset': 0.56\n",
    "* 'hours-per-week', 'hours-per-week_quantile_binning': 0.71\n",
    "* 'marital-statussimple Never-married', 'age_quantile_binning': -0.55\n",
    "* 'marital-statussimple Never-married', 'relationshipsimple Own-child': 0.51\n",
    "* 'marital-statussimple Never-married', 'relationshipsimple Spouse'): -0.64\n",
    "* 'native-countrysimple America', 'native-countrysimple United-States': -0.64\n",
    "* In general, we observe that the features of the dataset don't present strong correlated scenarios, except for the binning features that will not be used alongside the originals."
   ]
  },
  {
   "cell_type": "code",
   "execution_count": null,
   "id": "93a25b29",
   "metadata": {},
   "outputs": [],
   "source": [
    "corr=train_data.iloc[:, :].corr()\n",
    "#display(corr)\n",
    "\n",
    "dict_corr=get_correlations(corr, corr_threshold=0.5) #dict with the highest abs correlations between all dataset features\n",
    "display(dict_corr)\n",
    "\n",
    "features_to_consider={} #dict with features correlated to the target, such as abs(corr)>0.5\n",
    "for index, value in dict_corr.items():\n",
    "      if index[0]=='income_ >50K':\n",
    "        try:\n",
    "          features_to_consider[index[1]].append(value)\n",
    "        except:\n",
    "          features_to_consider[index[1]]=[value]\n",
    "      elif index[1]=='income_ >50K':\n",
    "        try:\n",
    "          features_to_consider[index[0]].append(value)\n",
    "        except:\n",
    "          features_to_consider[index[0]]=[value]\n",
    "\n",
    "print(features_to_consider)\n",
    "\n",
    "# Generate a mask for the upper triangle\n",
    "mask = np.triu(np.ones_like(corr, dtype=bool))\n",
    "# Set up the matplotlib figure\n",
    "f, ax = plt.subplots(figsize=(25, 20))\n",
    "# Generate a custom diverging colormap\n",
    "cmap = sns.diverging_palette(230, 20, as_cmap=True)\n",
    "# Draw the heatmap with the mask and correct aspect ratio\n",
    "sns.heatmap(corr, mask=mask, cmap=cmap, center=0,\n",
    "            square=False, linewidths=.5, cbar_kws={\"shrink\": .9}, annot=True, fmt='.2f')"
   ]
  },
  {
   "cell_type": "markdown",
   "id": "e7b03dba",
   "metadata": {},
   "source": [
    "# ML steps\n"
   ]
  },
  {
   "cell_type": "markdown",
   "id": "9045ba94",
   "metadata": {},
   "source": [
    "**Prediction problem:**\n",
    "\n"
   ]
  },
  {
   "cell_type": "markdown",
   "id": "cf310f76",
   "metadata": {},
   "source": [
    "The prediction task is to determine whether a person makes over $50K a year, (income exceeds$50K/yr) based on census data."
   ]
  },
  {
   "cell_type": "markdown",
   "id": "56c61c79",
   "metadata": {},
   "source": [
    "**Features to the ML models:**\n",
    "\n"
   ]
  },
  {
   "cell_type": "markdown",
   "id": "fc243162",
   "metadata": {},
   "source": [
    "X = train features\\ y = target feature\n",
    "\n"
   ]
  },
  {
   "cell_type": "markdown",
   "id": "633f0daa",
   "metadata": {},
   "source": [
    "# Train Definition \n"
   ]
  },
  {
   "cell_type": "markdown",
   "id": "ced93ecc",
   "metadata": {},
   "source": [
    "* **Test 1)** Firstly, almost all features of the dataset will be used, except the target feature and the created ones (binning features). But the features that were simplified in terms of similarity of classes and amount of data will be included (via one-hot-encoding).\n"
   ]
  },
  {
   "cell_type": "code",
   "execution_count": null,
   "id": "56db832a",
   "metadata": {},
   "outputs": [],
   "source": [
    "print(train_data.columns)\n",
    "\n",
    "features=['age', 'fnlwgt', 'education-num', 'capital-gain', 'capital-loss', 'hours-per-week',\n",
    "       'has_asset',\n",
    "       'sex_ Male', \n",
    "       'workclass_simple_ Federal-gov',\n",
    "       'workclass_simple_ Local-gov', \n",
    "       'workclass_simple_ Private',\n",
    "       'workclass_simple_ Self-emp-inc', \n",
    "       'workclass_simple_ Self-emp-not-inc',\n",
    "       'workclass_simple_ State-gov',\n",
    "       'workclass_simple_ WO_pay',\n",
    "       'occupation_simple_ Craft-repair', \n",
    "       'occupation_simple_ Exec-managerial',\n",
    "       'occupation_simple_ Farming-fishing',\n",
    "       'occupation_simple_ Handlers-cleaners',\n",
    "       'occupation_simple_ Machine-op-inspct',\n",
    "       'occupation_simple_ Other-service',\n",
    "       'occupation_simple_ Priv-house-serv',\n",
    "       'occupation_simple_ Prof-specialty',\n",
    "       'occupation_simple_ Protective-serv', \n",
    "       'occupation_simple_ Sales',\n",
    "       'occupation_simple_ Tech-support',\n",
    "       'occupation_simple_ Transport-moving',\n",
    "       'marital-status_simple_ Never-married',\n",
    "       'marital-status_simple_ No-spouse',\n",
    "       'relationship_simple_ Other-relative', \n",
    "       'relationship_simple_ Own-child',\n",
    "       'relationship_simple_ Spouse', \n",
    "       'relationship_simple_ Unmarried',\n",
    "       'race_simple_ White', \n",
    "       'native-country_simple_ America',\n",
    "       'native-country_simple_ Asia', \n",
    "       'native-country_simple_ Europe',\n",
    "       'native-country_simple_ United-States']\n",
    "\n",
    "print(len(features))"
   ]
  },
  {
   "cell_type": "code",
   "execution_count": null,
   "id": "1dab58df",
   "metadata": {},
   "outputs": [],
   "source": [
    "X = train_data[features]\n",
    "y = train_data['income_ >50K']\n",
    "display(X.head())\n",
    "display(y.head())"
   ]
  },
  {
   "cell_type": "markdown",
   "id": "309e5994",
   "metadata": {},
   "source": [
    "**Data split: train and validation**\n"
   ]
  },
  {
   "cell_type": "code",
   "execution_count": null,
   "id": "feffe7da",
   "metadata": {},
   "outputs": [],
   "source": [
    "train_X, val_X, train_y, val_y = train_test_split(X, y, test_size=0.25, stratify=y, random_state=376) #test_size=0.2, 0.3\n",
    "print(train_X.head())\n",
    "print(train_y.head())"
   ]
  },
  {
   "cell_type": "markdown",
   "id": "9962091e",
   "metadata": {},
   "source": [
    "# ML models\n"
   ]
  },
  {
   "cell_type": "markdown",
   "id": "aa98957f",
   "metadata": {},
   "source": [
    "**Datasets:**\n",
    "\n"
   ]
  },
  {
   "cell_type": "markdown",
   "id": "a106f111",
   "metadata": {},
   "source": [
    "Train: train_X, train_y\\ Validation: val_X, val_y\\ Test: X_test, y_test\n",
    "\n"
   ]
  },
  {
   "cell_type": "markdown",
   "id": "cc014df5",
   "metadata": {},
   "source": [
    "# DummyClassifier algorithm: Baseline\n"
   ]
  },
  {
   "cell_type": "markdown",
   "id": "559a4f7a",
   "metadata": {},
   "source": [
    "The most frequent strategy are used: given the most frequent value of the target feature, the baseline will infer that all entries in the dataset assume this value in the prediction step.\n",
    "\n"
   ]
  },
  {
   "cell_type": "markdown",
   "id": "b849f1b0",
   "metadata": {},
   "source": [
    "# The DummyClassifier achieved 0.76 of accuracy "
   ]
  },
  {
   "cell_type": "code",
   "execution_count": null,
   "id": "f512ee9f",
   "metadata": {},
   "outputs": [],
   "source": [
    "dummy_model = DummyClassifier('most_frequent', random_state=376)\n",
    "dummy_model.fit(train_X, train_y)\n",
    "dummy_prediction = dummy_model.predict(val_X) \n",
    "calc_performance_metrics('Dummy Classifier', val_y, dummy_prediction)\n",
    "calc_confusion_matrix(val_y, dummy_prediction)"
   ]
  },
  {
   "cell_type": "markdown",
   "id": "fb3fd916",
   "metadata": {},
   "source": [
    "# Logistic Regression algorithm\n"
   ]
  },
  {
   "cell_type": "markdown",
   "id": "c90c1252",
   "metadata": {},
   "source": [
    "Logistic Regression with max_iter = 1000.\n",
    "\n"
   ]
  },
  {
   "cell_type": "markdown",
   "id": "336cbda1",
   "metadata": {},
   "source": [
    "**The Logistic Regression achieved:**\n",
    "\n"
   ]
  },
  {
   "cell_type": "markdown",
   "id": "4b2623ea",
   "metadata": {},
   "source": [
    "* 85 of accuracy (= 85% correct Prediction)\n",
    "* .59 of all recall (if measures the number of posetive class (>$ 50K) made out of all posetive entries in the dataset. \n",
    "*  we observe that the target feature has unbalanced classes with more data into the negative class (<=$ 50K), which can bias the model to predict negative values (increase the false negatives). Such scenario can contribute to the recall's reduction.\n",
    "         \n",
    "                  * 0.75 of precision (it measures the number of positive class predictions that really belong to the positive class (>=$ 50K)). \n",
    "                  * Contrarily, the precision isn't affected by the bias of predicting more negative values.\n",
    "                  * 0.66 of F1 score (F1 tries to balance both the concerns of precision and recall in a single metric).\n",
    "\n",
    "\n"
   ]
  },
  {
   "cell_type": "code",
   "execution_count": null,
   "id": "e9c23ea4",
   "metadata": {},
   "outputs": [],
   "source": [
    "lr_model = LogisticRegression(max_iter=1000, random_state=376)\n",
    "lr_model.fit(train_X, train_y) \n",
    "lr_prediction=lr_model.predict(val_X)\n",
    "calc_performance_metrics('Logistic Regression', val_y, lr_prediction)\n",
    "calc_confusion_matrix(val_y, lr_prediction)"
   ]
  },
  {
   "cell_type": "markdown",
   "id": "a7755dd1",
   "metadata": {},
   "source": [
    "# Decision Tree algorithm\n"
   ]
  },
  {
   "cell_type": "markdown",
   "id": "b36001cd",
   "metadata": {},
   "source": [
    "Decision Tree model with a simple optimization to find the max_depth. The function tries to find the best trade-off between fit and validation score (one step before overfitting).\n",
    "\n"
   ]
  },
  {
   "cell_type": "markdown",
   "id": "b887c314",
   "metadata": {},
   "source": [
    "* **The best scores for both datasets were achieved when max_depth=7.**\n",
    "\n"
   ]
  },
  {
   "cell_type": "markdown",
   "id": "b9c5557d",
   "metadata": {},
   "source": [
    "* For max_depth=8, we can see the increase in the training score but the decrease in the validation score, i.e., the model is overfitted.\n",
    "\n"
   ]
  },
  {
   "cell_type": "markdown",
   "id": "66d004c3",
   "metadata": {},
   "source": [
    "* Until max_depth=7, the model was lowering the bias and variance, after that, the variance started to increase.\n",
    "\n"
   ]
  },
  {
   "cell_type": "markdown",
   "id": "deb25e91",
   "metadata": {},
   "source": [
    "**The Decision Tree achieved:**\n",
    "\n"
   ]
  },
  {
   "cell_type": "markdown",
   "id": "1d3c3909",
   "metadata": {},
   "source": [
    "* 0.85 of accuracy"
   ]
  },
  {
   "cell_type": "markdown",
   "id": "b539e82b",
   "metadata": {},
   "source": [
    "* 0.53 of recall.\n"
   ]
  },
  {
   "cell_type": "markdown",
   "id": "021c43fc",
   "metadata": {},
   "source": [
    "* 0.79 of precision.\n"
   ]
  },
  {
   "cell_type": "markdown",
   "id": "70fbf589",
   "metadata": {},
   "source": [
    "* 0.64 of F1 score.\n"
   ]
  },
  {
   "cell_type": "code",
   "execution_count": 52,
   "id": "0d2ddd4a",
   "metadata": {},
   "outputs": [
    {
     "name": "stdout",
     "output_type": "stream",
     "text": [
      "max_depth: 1 fit score: 0.7591728091728092 validation score: 0.7592433361994841\n",
      "max_depth: 2 fit score: 0.8296068796068796 validation score: 0.8275396142979978\n",
      "max_depth: 3 fit score: 0.8453726453726453 validation score: 0.8421569831716006\n",
      "max_depth: 4 fit score: 0.8478705978705978 validation score: 0.8437538385947673\n",
      "max_depth: 5 fit score: 0.8569205569205569 validation score: 0.8503869303525365\n",
      "max_depth: 6 fit score: 0.8599099099099099 validation score: 0.8525979609384596\n",
      "max_depth: 7 fit score: 0.862940212940213 validation score: 0.8534578061663186\n",
      "max_depth: 8 fit score: 0.8648648648648649 validation score: 0.8512467755803955\n",
      "max_depth: 9 fit score: 0.868959868959869 validation score: 0.8497727551897801\n",
      "max_depth: 10 fit score: 0.8780917280917281 validation score: 0.851001105515293\n",
      "\n",
      "Decision Tree prediction | Classification metric:\n",
      "Accuracy: 0.8534578061663186\n",
      "Recall: 0.5346938775510204\n",
      "Precision: 0.7885628291948834\n",
      "F1: 0.6372757677105504\n",
      "\n",
      "TN:  5900 FP:  281 FN:  912 TP:  1048\n"
     ]
    },
    {
     "data": {
      "image/png": "[encoded data removed]",
      "text/plain": [
       "<Figure size 576x432 with 1 Axes>"
      ]
     },
     "metadata": {
      "needs_background": "light"
     },
     "output_type": "display_data"
    },
    {
     "data": {
      "image/png": "[encoded data removed]",
      "text/plain": [
       "<Figure size 576x432 with 2 Axes>"
      ]
     },
     "metadata": {
      "needs_background": "light"
     },
     "output_type": "display_data"
    }
   ],
   "source": [
    "#simple search to define the max_depth parameter\n",
    "train=[]\n",
    "valid=[]\n",
    "for i in range(1,30):\n",
    "  dtree_model = DecisionTreeClassifier(max_depth=i, random_state=376)\n",
    "  dtree_model.fit(train_X, train_y)\n",
    "  train.append(dtree_model.score(train_X, train_y))\n",
    "  valid.append(dtree_model.score(val_X, val_y))\n",
    "\n",
    "for i in range(10):\n",
    "  print('max_depth:', i+1, 'fit score:', train[i], 'validation score:', valid[i]) #best trade-off between fit and validation score when max_depth=6\n",
    "print('')\n",
    "\n",
    "ax=sns.lineplot(x=range(1,30), y = train, label='fit')\n",
    "ax=sns.lineplot(x=range(1,30), y = valid, label='validation')\n",
    "ax.set(xlabel='max_depth', ylabel='Accuracy')\n",
    "\n",
    "dtree_model = DecisionTreeClassifier(max_depth = 7, random_state=376)\n",
    "dtree_model.fit(train_X, train_y)\n",
    "dtree_prediction=dtree_model.predict(val_X)\n",
    "calc_performance_metrics('Decision Tree', val_y, dtree_prediction)\n",
    "calc_confusion_matrix(val_y, dtree_prediction)\n"
   ]
  },
  {
   "cell_type": "markdown",
   "id": "93a04829",
   "metadata": {},
   "source": [
    "# Random Forest algorithm\n"
   ]
  },
  {
   "cell_type": "markdown",
   "id": "b18070ba",
   "metadata": {},
   "source": [
    "Random Forest model with n_estimators=500.\n",
    "\n"
   ]
  },
  {
   "cell_type": "markdown",
   "id": "942dea5b",
   "metadata": {},
   "source": [
    "**The Random Forest achieved:**\n",
    "\n"
   ]
  },
  {
   "cell_type": "markdown",
   "id": "50654e5a",
   "metadata": {},
   "source": [
    "* 0.85 of accuracy "
   ]
  },
  {
   "cell_type": "markdown",
   "id": "7ab60f17",
   "metadata": {},
   "source": [
    "* 0.63 of recall.\n"
   ]
  },
  {
   "cell_type": "markdown",
   "id": "a79ad9c4",
   "metadata": {},
   "source": [
    "* 0.73 of precision.\n"
   ]
  },
  {
   "cell_type": "markdown",
   "id": "f5dc99ad",
   "metadata": {},
   "source": [
    "* 0.68 of F1 score.\n"
   ]
  },
  {
   "cell_type": "markdown",
   "id": "be9c28ed",
   "metadata": {},
   "source": [
    "* The most important features for the prediction process were age, fnlwgt, education-num, capital-gain, capital-loss, hours-per-week, has_asset, marital-statussimple Never-married, relationshipsimple Spouse."
   ]
  },
  {
   "cell_type": "code",
   "execution_count": null,
   "id": "3135860e",
   "metadata": {},
   "outputs": [],
   "source": [
    "rf_model = RandomForestClassifier(n_estimators=500, random_state=376)\n",
    "rf_model.fit(train_X, train_y)\n",
    "rf_prediction=rf_model.predict(val_X)\n",
    "calc_performance_metrics('Random Forest', val_y, rf_prediction)\n",
    "calc_confusion_matrix(val_y, rf_prediction)\n",
    "plt.show()\n",
    "\n",
    "plt.barh(features, rf_model.feature_importances_)\n",
    "plt.xlabel(\"Random Forest feature importance\")\n",
    "plt.show()"
   ]
  },
  {
   "cell_type": "markdown",
   "id": "5caf0f55",
   "metadata": {},
   "source": [
    "# Randomized search on hyper parameters\n"
   ]
  },
  {
   "cell_type": "markdown",
   "id": "cd854981",
   "metadata": {},
   "source": [
    "As all models have reached similar performance scores in terms of accuracy, recall, precision and F1, a hyperparameter optimization will be applied to the Random Forest algorithm in an attempt to improve the obtained performance metrics.\n",
    "\n"
   ]
  },
  {
   "cell_type": "markdown",
   "id": "99eae7c1",
   "metadata": {},
   "source": [
    "To do that, the RandomizedSearchCV method is used, where one can define a set of hyperparameter ranges, and randomly sample from the set, performing Kfold cross validation with each combination of values.\n",
    "\n"
   ]
  },
  {
   "cell_type": "markdown",
   "id": "a6cafa4e",
   "metadata": {},
   "source": [
    "After the optimization, a cross validation procedure will be performed on the optimized model to ensure the obtained scores.\n",
    "\n"
   ]
  },
  {
   "cell_type": "markdown",
   "id": "7cc80e7f",
   "metadata": {},
   "source": [
    "**Best set of parameters: 'n_estimators' = 1240, 'min_samples_split' = 10, 'min_samples_leaf' = 2, 'max_depth' = 50**\n",
    "\n"
   ]
  },
  {
   "cell_type": "markdown",
   "id": "33e26cb6",
   "metadata": {},
   "source": [
    "**The optimized Random Forest achieved:**\n",
    "\n"
   ]
  },
  {
   "cell_type": "markdown",
   "id": "0b2063ec",
   "metadata": {},
   "source": [
    "* 0.86 of accuracy"
   ]
  },
  {
   "cell_type": "markdown",
   "id": "5511bb8b",
   "metadata": {},
   "source": [
    "* 0.62 of recall.\n"
   ]
  },
  {
   "cell_type": "markdown",
   "id": "a1b9b607",
   "metadata": {},
   "source": [
    "* 0.77 of precision.\n"
   ]
  },
  {
   "cell_type": "markdown",
   "id": "c8cbc575",
   "metadata": {},
   "source": [
    "* 0.69 of F1 score.\n"
   ]
  },
  {
   "cell_type": "markdown",
   "id": "e12d08ab",
   "metadata": {},
   "source": [
    "**In general, the optimized Random Forest has achieved similar results when compared to the best metrics of the other methods.**\n",
    "\n"
   ]
  },
  {
   "cell_type": "markdown",
   "id": "611f56d0",
   "metadata": {},
   "source": [
    "We note that the optimization must be executed for a longer time in order to efficiently explore the solution space.\n",
    "\n"
   ]
  },
  {
   "cell_type": "code",
   "execution_count": null,
   "id": "b8e9f473",
   "metadata": {},
   "outputs": [],
   "source": [
    "def optimize_rf_params(train_X, train_y, val_X, val_y):\n",
    "  ##randomized optimization with cross validation for the hyperparameters of the random forest\n",
    "  ##return the optimized rf model\n",
    "  rf_params = {'n_estimators': [int(i) for i in range(100, 2001, 380)], #6 values\n",
    "            'max_depth': [int(i) for i in range(10, 51, 10)],\n",
    "            #'max_features' = ['auto', 'log2'],\n",
    "            'min_samples_split': [2, 5, 10, 15],\n",
    "            'min_samples_leaf': [2, 4, 6],\n",
    "            #'bootstrap' = [True, False]\n",
    "            }\n",
    "  random_rf = RandomizedSearchCV(estimator=RandomForestClassifier(), param_distributions=rf_params, cv=4, n_iter=20)\n",
    "  random_rf.fit(train_X, train_y)\n",
    "\n",
    "  print(random_rf.best_params_)\n",
    "  opt_rf_model=random_rf.best_estimator_\n",
    "\n",
    "  opt_rf_prediction=opt_rf_model.predict(val_X)\n",
    "  calc_performance_metrics('Random Forest', val_y, opt_rf_prediction)\n",
    "  calc_confusion_matrix(val_y, opt_rf_prediction)\n",
    "  return opt_rf_model\n",
    "\n",
    "\n",
    "opt_rf_model=optimize_rf_params(train_X, train_y, val_X, val_y)"
   ]
  },
  {
   "cell_type": "markdown",
   "id": "9e8f1d44",
   "metadata": {},
   "source": [
    "# Cross Validation: Kfold\n"
   ]
  },
  {
   "cell_type": "markdown",
   "id": "68c9b5d3",
   "metadata": {},
   "source": [
    "The cross validation procedure is applied to the optimized Random Forest model in order to ensure the obtained scores.\n",
    "\n"
   ]
  },
  {
   "cell_type": "markdown",
   "id": "45c94dfc",
   "metadata": {},
   "source": [
    "**The optimized Random Forest through cross validation achieved on Test 1:**\n",
    "\n"
   ]
  },
  {
   "cell_type": "markdown",
   "id": "b1d531c5",
   "metadata": {},
   "source": [
    "* Accuracy | mean: 0.866963 | min: 0.860565 | max: 0.871146\n"
   ]
  },
  {
   "cell_type": "markdown",
   "id": "b6c314a8",
   "metadata": {},
   "source": [
    "* Recall | mean: 0.621142 | min: 0.600904 | max: 0.639062\n"
   ]
  },
  {
   "cell_type": "markdown",
   "id": "e9d9bb56",
   "metadata": {},
   "source": [
    "* Precision | mean: 0.781704 | min: 0.759752 | max: 0.798710\n"
   ]
  },
  {
   "cell_type": "markdown",
   "id": "ad034b14",
   "metadata": {},
   "source": [
    "* F1 | mean: 0.692134 | min: 0.678379 | max: 0.702870\n"
   ]
  },
  {
   "cell_type": "markdown",
   "id": "39d6a5d4",
   "metadata": {},
   "source": [
    "**Such results show the predictions consistency.**\n",
    "\n"
   ]
  },
  {
   "cell_type": "code",
   "execution_count": null,
   "id": "d635fcce",
   "metadata": {},
   "outputs": [],
   "source": [
    "def cross_validation_prediction(ml_model, X, y):\n",
    "  list_metrics=[]\n",
    "\n",
    "  kf=RepeatedKFold(n_splits=4, n_repeats=5, random_state=376)\n",
    "\n",
    "  train_X, val_X, train_y, val_y=None, None, None, None\n",
    "  for l_train, l_val in kf.split(X):\n",
    "    #print(l_train.shape[0], l_val.shape[0])\n",
    "    train_X, val_X = X.iloc[l_train], X.iloc[l_val]\n",
    "    train_y, val_y = y.iloc[l_train], y.iloc[l_val]\n",
    "\n",
    "    ##optimized Random Forest\n",
    "    #ml_model = RandomForestClassifier(n_estimators=500, random_state=376)\n",
    "    ml_model.fit(train_X, train_y)\n",
    "    ml_prediction=ml_model.predict(val_X)\n",
    "    acc, recall, prec, f1=calc_performance_metrics('ML model', val_y, ml_prediction)\n",
    "\n",
    "    list_metrics.append([acc, recall, prec, f1])\n",
    "\n",
    "    #plt.barh(features, ml_model.feature_importances_)\n",
    "    #plt.xlabel(\"Random Forest feature importance\")\n",
    "    #plt.show()\n",
    "\n",
    "    print('\\n')\n",
    "\n",
    "  print('Accuracy | mean: %f | min: %f | max: %f'  % (np.mean([list_metrics[i][0] for i in range(len(list_metrics))]), np.min([list_metrics[i][0] for i in range(len(list_metrics))]), np.max([list_metrics[i][0] for i in range(len(list_metrics))])))\n",
    "  print('Recall | mean: %f | min: %f | max: %f'    % (np.mean([list_metrics[i][1] for i in range(len(list_metrics))]), np.min([list_metrics[i][1] for i in range(len(list_metrics))]), np.max([list_metrics[i][1] for i in range(len(list_metrics))])))\n",
    "  print('Precision | mean: %f | min: %f | max: %f' % (np.mean([list_metrics[i][2] for i in range(len(list_metrics))]), np.min([list_metrics[i][2] for i in range(len(list_metrics))]), np.max([list_metrics[i][2] for i in range(len(list_metrics))])))\n",
    "  print('F1 | mean: %f | min: %f | max: %f'        % (np.mean([list_metrics[i][3] for i in range(len(list_metrics))]), np.min([list_metrics[i][3] for i in range(len(list_metrics))]), np.max([list_metrics[i][3] for i in range(len(list_metrics))])))\n",
    "\n",
    "  ##plotting accuracy values\n",
    "  plt.hist([list_metrics[i][0] for i in range(len(list_metrics))])\n",
    "  plt.show()\n",
    "\n",
    " sns.boxplot(y=[list_metrics[i][0] for i in range(len(list_metrics))])\n",
    "  plt.show()\n",
    "\n",
    "\n",
    "#cross_validation_prediction(rf_model, X, y)\n",
    "cross_validation_prediction(opt_rf_model, X, y) #pass the optimized random forest"
   ]
  },
  {
   "cell_type": "markdown",
   "id": "6ccaeef0",
   "metadata": {},
   "source": [
    "# Additional feature engineering\n"
   ]
  },
  {
   "cell_type": "markdown",
   "id": "861500ff",
   "metadata": {},
   "source": [
    "**Categorical features:**\\ Performed operations:\n",
    "\n"
   ]
  },
  {
   "cell_type": "markdown",
   "id": "e7bde8a4",
   "metadata": {},
   "source": [
    "1. From feature workclass: Creation of feature workclass_all_gov from the combination of 2 similar classes (Without-pay and Never-worked), and also from the grouping of gov sectors in a single class. The other classes remain the same. This feature will replace the previous created workclass_simple.\n",
    "\n"
   ]
  },
  {
   "cell_type": "markdown",
   "id": "dbcd62ad",
   "metadata": {},
   "source": [
    "2. From feature native-country: Creation of a binary feature native-country_bin that encompasses only two classes: the class United-States which remains the same due to the large number of data, and the class Foreigner. This feature will replace the previous created feature native-country_simple which was based on the continents.\n",
    "\n"
   ]
  },
  {
   "cell_type": "markdown",
   "id": "2842b503",
   "metadata": {},
   "source": [
    "3. Transformation of categorical features to numerical features through one-hot-encoding strategy.\n",
    "\n"
   ]
  },
  {
   "cell_type": "code",
   "execution_count": null,
   "id": "1790dc69",
   "metadata": {},
   "outputs": [],
   "source": [
    "##categorical features\n",
    "def group_workclass_gov(val):\n",
    "  #combination of similar classes and with few data\n",
    "  if val==' Without-pay' or val==' Never-worked':            \n",
    "    return ' WO_pay'\n",
    "  elif val==' Local-gov' or val==' State-gov' or val==' Federal-gov':\n",
    "    return ' Gov_sector'\n",
    "  else:\n",
    "    return val\n",
    "    \n",
    "def group_native_country_bin(val):\n",
    "  #abstraction of classes\n",
    "  if val==' United-States':       \n",
    "    return val\n",
    "  else:\n",
    "    return ' Foreigner'\n",
    "\n",
    "train_data['workclass_all_gov']=train_data['workclass'].map(group_workclass_gov)\n",
    "train_data['native-country_bin']=train_data['native-country'].map(group_native_country_bin)\n",
    "train_data=pd.get_dummies(train_data, columns=['workclass_all_gov', 'native-country_bin'], drop_first=True)\n",
    "\n",
    "test_data['workclass_all_gov']=test_data['workclass'].map(group_workclass_gov)\n",
    "test_data['native-country_bin']=test_data['native-country'].map(group_native_country_bin)\n",
    "test_data=pd.get_dummies(test_data, columns=['workclass_all_gov', 'native-country_bin'], drop_first=True)"
   ]
  },
  {
   "cell_type": "markdown",
   "id": "4627d40f",
   "metadata": {},
   "source": [
    "# Train Definition II\n"
   ]
  },
  {
   "cell_type": "markdown",
   "id": "d0414940",
   "metadata": {},
   "source": [
    "* **Test 2)** In the second set of features, the idea is to simplify even more the features, replacing the continuous features by the binning features, and also reducing the number of categories in some features by grouping the similar ones as done above.\n"
   ]
  },
  {
   "cell_type": "markdown",
   "id": "2ae0a0ad",
   "metadata": {},
   "source": [
    "**Differences from Test 1:**\n",
    "\n"
   ]
  },
  {
   "cell_type": "markdown",
   "id": "9e20aa03",
   "metadata": {},
   "source": [
    "* Replacement of feature age by feature age_quantile_binning\n"
   ]
  },
  {
   "cell_type": "markdown",
   "id": "e5c9d521",
   "metadata": {},
   "source": [
    "* Replacement of hours-per-week by hours-per-week_quantile_binning\n"
   ]
  },
  {
   "cell_type": "markdown",
   "id": "bfa7a087",
   "metadata": {},
   "source": [
    "* Replacement of workclass_simple by workclass_all_gov\n"
   ]
  },
  {
   "cell_type": "markdown",
   "id": "503f5500",
   "metadata": {},
   "source": [
    "* Replacement of native-country_simple by native-country_bin\n"
   ]
  },
  {
   "cell_type": "code",
   "execution_count": null,
   "id": "f8f2c63e",
   "metadata": {},
   "outputs": [],
   "source": [
    "print(train_data.columns)\n",
    "\n",
    "features2=['education-num', 'capital-gain', 'capital-loss', 'fnlwgt',\n",
    "       'sex_ Male',\n",
    "       'occupation_simple_ Craft-repair', \n",
    "       'occupation_simple_ Exec-managerial',\n",
    "       'occupation_simple_ Farming-fishing',\n",
    "       'occupation_simple_ Handlers-cleaners',\n",
    "       'occupation_simple_ Machine-op-inspct',\n",
    "       'occupation_simple_ Other-service',\n",
    "       'occupation_simple_ Priv-house-serv',\n",
    "       'occupation_simple_ Prof-specialty',\n",
    "       'occupation_simple_ Protective-serv', \n",
    "       'occupation_simple_ Sales',\n",
    "       'occupation_simple_ Tech-support',\n",
    "       'occupation_simple_ Transport-moving',\n",
    "       'marital-status_simple_ Never-married',\n",
    "       'marital-status_simple_ No-spouse',\n",
    "       'relationship_simple_ Other-relative', \n",
    "       'relationship_simple_ Own-child',\n",
    "       'relationship_simple_ Spouse', \n",
    "       'relationship_simple_ Unmarried',\n",
    "       'race_simple_ White', \n",
    "       'has_asset',\n",
    "       'age_quantile_binning', \n",
    "       'hours-per-week_quantile_binning',\n",
    "       'workclass_all_gov_ Gov_sector', \n",
    "       'workclass_all_gov_ Private',\n",
    "       'workclass_all_gov_ Self-emp-inc',\n",
    "       'workclass_all_gov_ Self-emp-not-inc', \n",
    "       'workclass_all_gov_ WO_pay',\n",
    "       'native-country_bin_ United-States']\n",
    "\n",
    "print(len(features2))"
   ]
  },
  {
   "cell_type": "code",
   "execution_count": null,
   "id": "9af84260",
   "metadata": {},
   "outputs": [],
   "source": [
    "X = train_data[features2]\n",
    "y = train_data['income_ >50K']\n",
    "display(X.head())\n",
    "display(y.head())\n",
    "\n",
    "##data split between train and validation\n",
    "#train_X, val_X, train_y, val_y = train_test_split(X, y, test_size=0.25, stratify=y, random_state=376)"
   ]
  },
  {
   "cell_type": "markdown",
   "id": "67047aa8",
   "metadata": {},
   "source": [
    "# Optimized Random Forest and Kfold\n"
   ]
  },
  {
   "cell_type": "markdown",
   "id": "c81a32f1",
   "metadata": {},
   "source": [
    "Train and validation of Test 2 via the cross validation procedure applied to the optimized Random Forest model.\n",
    "\n"
   ]
  },
  {
   "cell_type": "markdown",
   "id": "a8a4fbbb",
   "metadata": {},
   "source": [
    "**The optimized Random Forest through cross validation achieved on Test 2:**\n",
    "\n"
   ]
  },
  {
   "cell_type": "markdown",
   "id": "24f3698e",
   "metadata": {},
   "source": [
    "* Accuracy | mean: 0.861681 | min: 0.857002 | max: 0.869672\n"
   ]
  },
  {
   "cell_type": "markdown",
   "id": "926370b1",
   "metadata": {},
   "source": [
    "* Recall | mean: 0.607847 | min: 0.591365 | max: 0.641667\n"
   ]
  },
  {
   "cell_type": "markdown",
   "id": "c6faf193",
   "metadata": {},
   "source": [
    "* Precision | mean: 0.769531 | min: 0.744201 | max: 0.786509\n"
   ]
  },
  {
   "cell_type": "markdown",
   "id": "af1085c1",
   "metadata": {},
   "source": [
    "* F1 | mean: 0.679080 | min: 0.669318 | max: 0.699007\n"
   ]
  },
  {
   "cell_type": "markdown",
   "id": "fab80e4b",
   "metadata": {},
   "source": [
    "**We observe that the feature set of Test 1 has presented slightly better results. Thus, the categorizations done in Test 2 didn't show improvements.**\n",
    "\n"
   ]
  },
  {
   "cell_type": "code",
   "execution_count": null,
   "id": "f5d9c52d",
   "metadata": {},
   "outputs": [],
   "source": [
    "#cross_validation_prediction(rf_model, X, y)\n",
    "cross_validation_prediction(opt_rf_model, X, y)"
   ]
  },
  {
   "cell_type": "markdown",
   "id": "7ba17273",
   "metadata": {},
   "source": [
    "# Train Definition III\n"
   ]
  },
  {
   "cell_type": "markdown",
   "id": "9a05e92f",
   "metadata": {},
   "source": [
    "* **Test 3)** In the third set of features, we used only the most important features pointed out in Test 1 regarding the Random Forest predictions. Some of these features were also highlighted and connected in the EDA step, such age, education and working hours per week.\n"
   ]
  },
  {
   "cell_type": "markdown",
   "id": "e0a1a7b4",
   "metadata": {},
   "source": [
    "**The idea in this test set is reduce the number of features but improving, or at least keeping, the same performance results.**\n",
    "\n"
   ]
  },
  {
   "cell_type": "code",
   "execution_count": null,
   "id": "0588ffd6",
   "metadata": {},
   "outputs": [],
   "source": [
    "features3=['fnlwgt', 'age', 'hours-per-week', 'education-num', 'capital-gain', 'capital-loss', 'marital-status_simple_ Never-married', 'relationship_simple_ Spouse']\n",
    "\n",
    "X = train_data[features3]\n",
    "y = train_data['income_ >50K']\n",
    "display(X.head())\n",
    "display(y.head())"
   ]
  },
  {
   "cell_type": "markdown",
   "id": "777eddb8",
   "metadata": {},
   "source": [
    "# Optimized Random Forest and Kfold\n"
   ]
  },
  {
   "cell_type": "markdown",
   "id": "a7878bea",
   "metadata": {},
   "source": [
    "Train and validation of Test 3 via the cross validation procedure applied to the optimized Random Forest model.\n",
    "\n"
   ]
  },
  {
   "cell_type": "markdown",
   "id": "d2a2091b",
   "metadata": {},
   "source": [
    "**The optimized Random Forest through cross validation achieved on Test 3:**\n",
    "\n"
   ]
  },
  {
   "cell_type": "markdown",
   "id": "746fa6d7",
   "metadata": {},
   "source": [
    "* Accuracy | mean: 0.856866 | min: 0.850491 | max: 0.862548\n"
   ]
  },
  {
   "cell_type": "markdown",
   "id": "22006415",
   "metadata": {},
   "source": [
    "* Recall | mean: 0.602194 | min: 0.584402 | max: 0.623541\n"
   ]
  },
  {
   "cell_type": "markdown",
   "id": "be960dfe",
   "metadata": {},
   "source": [
    "* Precision | mean: 0.754018 | min: 0.721059 | max: 0.774026\n"
   ]
  },
  {
   "cell_type": "markdown",
   "id": "034915fd",
   "metadata": {},
   "source": [
    "* F1 | mean: 0.669504 | min: 0.657431 | max: 0.686176\n"
   ]
  },
  {
   "cell_type": "markdown",
   "id": "a4751d21",
   "metadata": {},
   "source": [
    "**The obtained results follow the previous tests in terms of accuracy but using fewer features.**\n",
    "\n"
   ]
  },
  {
   "cell_type": "code",
   "execution_count": null,
   "id": "798bfa58",
   "metadata": {},
   "outputs": [],
   "source": [
    "#cross_validation_prediction(rf_model, X, y)\n",
    "cross_validation_prediction(opt_rf_model, X, y)"
   ]
  },
  {
   "cell_type": "markdown",
   "id": "428caf32",
   "metadata": {},
   "source": [
    "# Test step\n"
   ]
  },
  {
   "cell_type": "markdown",
   "id": "09404124",
   "metadata": {},
   "source": [
    "Last prediction task over the test dataset using the feature set from Test 1 that obtained the best results, the optimized Random Forest and cross validation to evaluate the results."
   ]
  },
  {
   "cell_type": "markdown",
   "id": "137dfd07",
   "metadata": {},
   "source": [
    "**The optimized Random Forest through cross validation achieved on the test dataset:**\n",
    "\n"
   ]
  },
  {
   "cell_type": "markdown",
   "id": "8fd707d7",
   "metadata": {},
   "source": [
    "* Accuracy | mean: 0.856761 | min: 0.850983 | max: 0.862425\n"
   ]
  },
  {
   "cell_type": "markdown",
   "id": "95b1cdb0",
   "metadata": {},
   "source": [
    "* Recall | mean: 0.601938 | min: 0.582863 | max: 0.624556\n"
   ]
  },
  {
   "cell_type": "markdown",
   "id": "6a16c546",
   "metadata": {},
   "source": [
    "* Precision | mean: 0.753766 | min: 0.722565 | max: 0.775391\n"
   ]
  },
  {
   "cell_type": "markdown",
   "id": "861764c1",
   "metadata": {},
   "source": [
    "* F1 | mean: 0.669238 | min: 0.655496 | max: 0.687117\n"
   ]
  },
  {
   "cell_type": "markdown",
   "id": "61dff988",
   "metadata": {},
   "source": [
    "We observe that the performance metrics of the model in both training and testing steps have followed similar results, which shows that our model could reach a reasonable trade-off between bias and variance."
   ]
  },
  {
   "cell_type": "markdown",
   "id": "e38d107d",
   "metadata": {},
   "source": [
    "However, it's noted that further investigations regarding hyper parameter optimization (reaching the full potential of the algorithm) and also feature engineering (finding more elusive patterns) are needed to increase the method's performance."
   ]
  },
  {
   "cell_type": "code",
   "execution_count": null,
   "id": "3a3992ee",
   "metadata": {},
   "outputs": [],
   "source": [
    "X_test = test_data[features]\n",
    "y_test = test_data['income_ >50K.']\n",
    "display(X_test.head())\n",
    "display(X_test.head())\n",
    "\n",
    "#cross_validation_prediction(rf_model, X, y)\n",
    "cross_validation_prediction(opt_rf_model, X, y)"
   ]
  },
  {
   "cell_type": "markdown",
   "id": "cc92ce35",
   "metadata": {},
   "source": [
    "# Final remarks\n"
   ]
  },
  {
   "cell_type": "markdown",
   "id": "1c597b71",
   "metadata": {},
   "source": [
    "To conclude the project, we can state that it is possible to determine whether a person makes over $ 50K  year based on census data, with a reasonable accuracy of =86%  in the testing step. However, there are features that are more relevant than others, such as age, working hours-per-week, education level, and these should be better considered in order to increase the accuracy of the models."
   ]
  },
  {
   "cell_type": "markdown",
   "id": "2ff2383a",
   "metadata": {},
   "source": [
    "Furthermore, as already mentioned, it is necessary that more specialized adjustments are done to improve the predictions' quality. For instance, it is possible to carry out further investigations on feature engineering and selection to better understand the target's behavior, and also focus on optimization of models' hyper parameters in order to extract the full potential of them."
   ]
  },
  {
   "cell_type": "code",
   "execution_count": null,
   "id": "32af0c88",
   "metadata": {},
   "outputs": [],
   "source": []
  },
  {
   "cell_type": "code",
   "execution_count": null,
   "id": "b3a0fa16",
   "metadata": {},
   "outputs": [],
   "source": []
  }
 ],
 "metadata": {
  "kernelspec": {
   "display_name": "Python 3 (ipykernel)",
   "language": "python",
   "name": "python3"
  },
  "language_info": {
   "codemirror_mode": {
    "name": "ipython",
    "version": 3
   },
   "file_extension": ".py",
   "mimetype": "text/x-python",
   "name": "python",
   "nbconvert_exporter": "python",
   "pygments_lexer": "ipython3",
   "version": "3.9.7"
  }
 },
 "nbformat": 4,
 "nbformat_minor": 5
}
